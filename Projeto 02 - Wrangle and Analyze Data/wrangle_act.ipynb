{
 "cells": [
  {
   "cell_type": "markdown",
   "metadata": {},
   "source": [
    "### Udacity - Fundamentos de Data Science II\n",
    "### Projeto 02: Preparar e Analisar Dados"
   ]
  },
  {
   "cell_type": "markdown",
   "metadata": {},
   "source": [
    "#### Descrição"
   ]
  },
  {
   "cell_type": "markdown",
   "metadata": {},
   "source": [
    "Este conjunto de dados é o arquivo de tweets do usuário do Twitter @dog_rates, também conhecido como WeRateDogs. WeRateDogs é uma conta no Twitter que classifica os cães das pessoas com um comentário bem humorado sobre o cão. Ele foi iniciado em 2015 pelo estudante universitário Matt Nelson e recebeu cobertura da mídia internacional. Em outubro de 2017 tinha mais 3,7 milhões de seguidores.  \n",
    "As classificações são do tipo em que um numerador varia de 1 a 10 sobre o denominador 10. Mas os numeradores quase sempre maiores que 10, como 11, 12 ou 13/10. Isso porque, segundo @dog_rates, eles são bons cães."
   ]
  },
  {
   "cell_type": "markdown",
   "metadata": {},
   "source": [
    "### Questionamentos"
   ]
  },
  {
   "cell_type": "markdown",
   "metadata": {},
   "source": [
    "1. Quais os 5 cães que tiveram mais tweets compartilhados e suas classificações do WeRateDogs?\n",
    "2. Qual a distribuição dos cães segundo os estágios propostos pelo WeRateDogs?\n",
    "3. A raça dos cães parece ter alguma relação com o compartilhamento dos tweets?\n",
    "4. Há muitos cães com o mesmo nome? Se sim, quais os 10 nomes mais comuns?\n",
    "5. O estágio do cão sugere alguma relação com a classificação dada pelo WeRateDogs?"
   ]
  },
  {
   "cell_type": "markdown",
   "metadata": {},
   "source": [
    "---"
   ]
  },
  {
   "cell_type": "markdown",
   "metadata": {},
   "source": [
    "### Preparação dos dados"
   ]
  },
  {
   "cell_type": "markdown",
   "metadata": {},
   "source": [
    "#### Coleta de Dados"
   ]
  },
  {
   "cell_type": "markdown",
   "metadata": {},
   "source": [
    "- De acordo com a descrição do projeto, seus objetivos e necessidades durante o projeto, optou-se por utilizar este conjunto de bibliotecas.\n",
    "- Se desejar acompanhar a partir da fase de Exploração e Análise, lá são carregadas as bibliotecas e o conjunto de dados já limpo."
   ]
  },
  {
   "cell_type": "code",
   "execution_count": 1,
   "metadata": {},
   "outputs": [],
   "source": [
    "# Importa bibliotecas úteis\n",
    "from IPython.display import clear_output\n",
    "import pandas as pd\n",
    "import numpy as np\n",
    "import requests\n",
    "import os\n",
    "import tweepy\n",
    "import json\n",
    "import time\n",
    "import csv\n",
    "import ast"
   ]
  },
  {
   "cell_type": "markdown",
   "metadata": {},
   "source": [
    "- Com a descrição do projeto foi recebido um arquivo de dados pré-extraídos do WeRateDogs: '**twitter-archive-enhanced.csv**'."
   ]
  },
  {
   "cell_type": "code",
   "execution_count": 2,
   "metadata": {},
   "outputs": [],
   "source": [
    "# Importa arquivo 'twitter-archive-enhanced.csv' para um dataframe.\n",
    "df_twi = pd.read_csv('twitter-archive-enhanced.csv')"
   ]
  },
  {
   "cell_type": "code",
   "execution_count": 3,
   "metadata": {},
   "outputs": [
    {
     "name": "stdout",
     "output_type": "stream",
     "text": [
      "<class 'pandas.core.frame.DataFrame'>\n",
      "RangeIndex: 2356 entries, 0 to 2355\n",
      "Data columns (total 17 columns):\n",
      "tweet_id                      2356 non-null int64\n",
      "in_reply_to_status_id         78 non-null float64\n",
      "in_reply_to_user_id           78 non-null float64\n",
      "timestamp                     2356 non-null object\n",
      "source                        2356 non-null object\n",
      "text                          2356 non-null object\n",
      "retweeted_status_id           181 non-null float64\n",
      "retweeted_status_user_id      181 non-null float64\n",
      "retweeted_status_timestamp    181 non-null object\n",
      "expanded_urls                 2297 non-null object\n",
      "rating_numerator              2356 non-null int64\n",
      "rating_denominator            2356 non-null int64\n",
      "name                          2356 non-null object\n",
      "doggo                         2356 non-null object\n",
      "floofer                       2356 non-null object\n",
      "pupper                        2356 non-null object\n",
      "puppo                         2356 non-null object\n",
      "dtypes: float64(4), int64(3), object(10)\n",
      "memory usage: 313.0+ KB\n"
     ]
    }
   ],
   "source": [
    "# Total de linhas importadas.\n",
    "df_twi.info()"
   ]
  },
  {
   "cell_type": "markdown",
   "metadata": {},
   "source": [
    "- Também foi disponibilizado um arquivo com dados extraídos através de uma rede neural, sobre a provável raça dos cães classificados pelo WeRateDogs, a ser baixado através da URL:\n",
    "https://d17h27t6h515a5.cloudfront.net/topher/2017/August/599fd2ad_image-predictions/image-predictions.tsv"
   ]
  },
  {
   "cell_type": "code",
   "execution_count": 25,
   "metadata": {},
   "outputs": [],
   "source": [
    "# Baixa o arquivo 'image-predictions.tsv'\n",
    "url = 'https://d17h27t6h515a5.cloudfront.net/topher/2017/August/599fd2ad_image-predictions/image-predictions.tsv'\n",
    "response = requests.get(url)\n",
    "with open(os.path.join('', url.split('/')[-1]), mode='wb') as file:\n",
    "    file.write(response.content)"
   ]
  },
  {
   "cell_type": "code",
   "execution_count": 4,
   "metadata": {
    "scrolled": true
   },
   "outputs": [],
   "source": [
    "# Importa o arquivo 'image-predictions.tsv' para um dataframe.\n",
    "df_ima_pre = pd.read_csv('image-predictions.tsv', sep='\\t')"
   ]
  },
  {
   "cell_type": "code",
   "execution_count": 5,
   "metadata": {},
   "outputs": [
    {
     "name": "stdout",
     "output_type": "stream",
     "text": [
      "<class 'pandas.core.frame.DataFrame'>\n",
      "RangeIndex: 2075 entries, 0 to 2074\n",
      "Data columns (total 12 columns):\n",
      "tweet_id    2075 non-null int64\n",
      "jpg_url     2075 non-null object\n",
      "img_num     2075 non-null int64\n",
      "p1          2075 non-null object\n",
      "p1_conf     2075 non-null float64\n",
      "p1_dog      2075 non-null bool\n",
      "p2          2075 non-null object\n",
      "p2_conf     2075 non-null float64\n",
      "p2_dog      2075 non-null bool\n",
      "p3          2075 non-null object\n",
      "p3_conf     2075 non-null float64\n",
      "p3_dog      2075 non-null bool\n",
      "dtypes: bool(3), float64(3), int64(2), object(4)\n",
      "memory usage: 152.1+ KB\n"
     ]
    }
   ],
   "source": [
    "# Total de linhas importadas.\n",
    "df_ima_pre.info()"
   ]
  },
  {
   "cell_type": "markdown",
   "metadata": {},
   "source": [
    "- Além dos dados fornecidos em arquivo, foi feita uma coleta de dados adicional através da API do Twitter.  \n",
    "Usando o tweet_id de cada linha do dataframe df_twi (tweets), criou-se o arquivo 'tweet_json.txt' contendo os dados JSON de cada tweet."
   ]
  },
  {
   "cell_type": "code",
   "execution_count": 27,
   "metadata": {},
   "outputs": [],
   "source": [
    "# Parâmetros para acessar a API do Twitter.\n",
    "CONSUMER_KEY = ''\n",
    "CONSUMER_SECRET = ''\n",
    "OAUTH_TOKEN = ''\n",
    "OAUTH_TOKEN_SECRET = ''"
   ]
  },
  {
   "cell_type": "code",
   "execution_count": 28,
   "metadata": {},
   "outputs": [],
   "source": [
    "# Autentica conta no Twitter\n",
    "auth = tweepy.OAuthHandler(CONSUMER_KEY, CONSUMER_SECRET)\n",
    "auth.set_access_token(OAUTH_TOKEN, OAUTH_TOKEN_SECRET)\n",
    "api = tweepy.API(auth)"
   ]
  },
  {
   "cell_type": "code",
   "execution_count": 29,
   "metadata": {},
   "outputs": [],
   "source": [
    "# Função para exibição de mensagens durante a pausa de leitura dos tweets da API.\n",
    "def mensagens_leitura_tweets(segundos, num_tweet, num_tweet_erro, tempo):\n",
    "    print('\\nAguardando', segundos, 'segundos...\\n')\n",
    "    print(num_tweet, 'Tweets lidos.')\n",
    "    print(num_tweet_erro, 'Erros de acesso.\\n')\n",
    "    print('Quando o limite de quantidade de acesso é alcançado é preciso aguardar 15 minutos antes de continuar.')\n",
    "    print('A cada minuto será exibido o tempo restante para certificar que o código está rodando corretamente.')\n",
    "    print('O código deverá continuar automaticamente de onde parou. Aguarde!\\n')\n",
    "    print('Faltam menos de', int(segundos - tempo), 'segundos.')\n",
    "\n",
    "# Função que suspende a execução pelo número de segundo recebidos na entrada.\n",
    "def aguardar(segundos):\n",
    "    tempo = 0\n",
    "    lapso_tempo = 0\n",
    "    mensagens_leitura_tweets(segundos, num_tweet, num_tweet_erro, tempo)\n",
    "    start = time.time()\n",
    "    while tempo <= segundos:\n",
    "        end = time.time()\n",
    "        tempo = (end - start)\n",
    "        if (tempo >= (lapso_tempo + 60)):\n",
    "            clear_output()\n",
    "            mensagens_leitura_tweets(segundos, num_tweet, num_tweet_erro, tempo)\n",
    "            lapso_tempo = tempo\n",
    "    print('\\nContinuando...')"
   ]
  },
  {
   "cell_type": "markdown",
   "metadata": {},
   "source": [
    "- O processo de leitura de Tweets pela API é demorado.  \n",
    "Devido a limitação da quantidade de acessos consecutivos imposta pelo Twitter, a cada 180 registros lidos é preciso pausar o processo de leitura e aguardar 15 minutos. Até que a contagem de acessos seja reiniciada pelos servidores do Twittter."
   ]
  },
  {
   "cell_type": "markdown",
   "metadata": {},
   "source": [
    "Cálculo do aproximado do tempo total do processo de leitura. Desconsiderado o tempo de resposta na Internet."
   ]
  },
  {
   "cell_type": "code",
   "execution_count": 30,
   "metadata": {},
   "outputs": [
    {
     "name": "stdout",
     "output_type": "stream",
     "text": [
      "O tempo aproximado para execução do processo de leitura é de 3.05 horas.\n"
     ]
    }
   ],
   "source": [
    "# Quantidade de registros a processar\n",
    "registros = len(df_twi)\n",
    "# Limite de leituras por vez\n",
    "rate_limit = 180\n",
    "# Tempo de espera para reinicialização do contador de leituras no servidor do Twitter\n",
    "rate_reset_time = 900\n",
    "# Cálcula do tempo total do processo de leitura.\n",
    "tempo = ((registros / rate_limit) * ((rate_reset_time / 60) - 1)) / 60\n",
    "print('O tempo aproximado para execução do processo de leitura é de {:2.2f} horas.'.format(tempo))"
   ]
  },
  {
   "cell_type": "markdown",
   "metadata": {},
   "source": [
    "- Início do processo de leitura"
   ]
  },
  {
   "cell_type": "code",
   "execution_count": 31,
   "metadata": {
    "scrolled": false
   },
   "outputs": [
    {
     "name": "stdout",
     "output_type": "stream",
     "text": [
      "Processando...\n",
      "2330 Tweets lidos.\n",
      "11 Erro(s) de acesso.\n",
      "\n",
      "\n",
      "Leitura terminada!\n",
      "2332 Tweets lidos.\n",
      "Ocorreram 11 erros de acesso.\n",
      "Os Tweets Id que ocasionaram erros de acesso (tweet_erros) foram registrados no arquivo \"tweet_erros.txt\".\n"
     ]
    }
   ],
   "source": [
    "# Lê JSON's tweets e armazena no arquivo 'tweet_json.txt'\n",
    "\n",
    "tweet_erros = []\n",
    "num_tweet = 0\n",
    "num_tweet_erro = 0\n",
    "json_file = 'tweet_json.txt'\n",
    "\n",
    "print('Iniciando leitura de Tweets. Aguarde...')\n",
    "\n",
    "# Abre arquivo 'tweet_json.txt' para escrita\n",
    "with open(json_file, 'w') as outfile:\n",
    "\n",
    "# Inicia de leitura dos tweets\n",
    "    for id_of_tweet in df_twi.tweet_id:\n",
    "        limite = api.rate_limit_status()\n",
    "        limite_qty = limite['resources']['application']['/application/rate_limit_status']['remaining']\n",
    "        if limite_qty >= 2:\n",
    "            try:\n",
    "                tweet = api.get_status(id_of_tweet, tweet_mode='extended', wait_on_rate_limit=True, wait_on_rate_limit_notify=True)\n",
    "            except Exception:\n",
    "                print('Erro ao tentar acessar o Tweet Id: ', id_of_tweet)\n",
    "                # Os Tweets Id em que ocorreu algum erro de acesso serão salvos na lista tweet_erros\n",
    "                tweet_erros.append(id_of_tweet)\n",
    "                num_tweet_erro += 1\n",
    "                pass\n",
    "                continue\n",
    "            # Grava arquivo JSON dump 'tweet_json.txt'\n",
    "            json.dump(tweet._json, outfile)\n",
    "            outfile.write('\\n')\n",
    "            num_tweet += 1\n",
    "            \n",
    "            if (num_tweet % 10 == 0):\n",
    "                clear_output()\n",
    "                print('Processando...')\n",
    "                print(num_tweet, 'Tweets lidos.')\n",
    "                print(num_tweet_erro, 'Erro(s) de acesso.\\n')\n",
    "        else:\n",
    "            # Chama função para aguardar por 15 minutos e 10 segundos, respeitando o rate_limit do Twitter.\n",
    "            aguardar(910)\n",
    "outfile.close()\n",
    "print('\\nLeitura terminada!')\n",
    "print(num_tweet, 'Tweets lidos.')\n",
    "if num_tweet_erro > 0:\n",
    "    # Abre arquivo 'tweet_erros.txt' para escrita\n",
    "    with open('tweet_erros.txt', 'w') as outfile:\n",
    "        for reg in tweet_erros:\n",
    "            outfile.write(str(reg) + '\\n')\n",
    "    outfile.close()\n",
    "    print('Ocorreram', num_tweet_erro, 'erros de acesso.')\n",
    "    print('Os Tweets Id que ocasionaram erros de acesso (tweet_erros) foram registrados no arquivo \"tweet_erros.txt\".')\n",
    "else:\n",
    "    print('Tudo Ok! Nenhum erro de acesso.')"
   ]
  },
  {
   "cell_type": "markdown",
   "metadata": {},
   "source": [
    "- Não foi possível acessar alguns Tweets que estavam no arquivo fornecido ('twitter-archive-enhanced.csv') através da API do Twitter.  \n",
    "Possivelmente foram apagados ou perdidos após o arquivo fornecido ter sido gravado."
   ]
  },
  {
   "cell_type": "code",
   "execution_count": 5,
   "metadata": {
    "scrolled": true
   },
   "outputs": [
    {
     "data": {
      "text/plain": [
       "[888202515573088257,\n",
       " 873697596434513921,\n",
       " 869988702071779329,\n",
       " 866816280283807744,\n",
       " 861769973181624320,\n",
       " 845459076796616705,\n",
       " 842892208864923648,\n",
       " 837012587749474308,\n",
       " 827228250799742977,\n",
       " 802247111496568832,\n",
       " 775096608509886464]"
      ]
     },
     "execution_count": 5,
     "metadata": {},
     "output_type": "execute_result"
    }
   ],
   "source": [
    "# Tweet Id que não puderam ser acessados através da API d Twitter.\n",
    "tweet_erros"
   ]
  },
  {
   "cell_type": "code",
   "execution_count": 33,
   "metadata": {
    "scrolled": true
   },
   "outputs": [
    {
     "name": "stdout",
     "output_type": "stream",
     "text": [
      "Erros retonados ao acessar os Tweet Id que provocaram erro\n",
      "\n",
      "Tweet Id: 888202515573088257 / Cód Erro: 144 / Desc: No status found with that ID.\n",
      "Tweet Id: 873697596434513921 / Cód Erro: 144 / Desc: No status found with that ID.\n",
      "Tweet Id: 869988702071779329 / Cód Erro: 144 / Desc: No status found with that ID.\n",
      "Tweet Id: 866816280283807744 / Cód Erro: 144 / Desc: No status found with that ID.\n",
      "Tweet Id: 861769973181624320 / Cód Erro: 144 / Desc: No status found with that ID.\n",
      "Tweet Id: 845459076796616705 / Cód Erro: 144 / Desc: No status found with that ID.\n",
      "Tweet Id: 842892208864923648 / Cód Erro: 144 / Desc: No status found with that ID.\n",
      "Tweet Id: 837012587749474308 / Cód Erro: 144 / Desc: No status found with that ID.\n",
      "Tweet Id: 827228250799742977 / Cód Erro: 144 / Desc: No status found with that ID.\n",
      "Tweet Id: 802247111496568832 / Cód Erro: 144 / Desc: No status found with that ID.\n",
      "Tweet Id: 775096608509886464 / Cód Erro: 144 / Desc: No status found with that ID.\n"
     ]
    }
   ],
   "source": [
    "# Checa os erros ocorrido.\n",
    "print('Erros retonados ao acessar os Tweet Id que provocaram erro\\n')\n",
    "for tweet_id in tweet_erros:\n",
    "    try:\n",
    "        api.get_status(tweet_id, tweet_mode='extended', wait_on_rate_limit=True, wait_on_rate_limit_notify=True)\n",
    "    except tweepy.TweepError as e:\n",
    "        erro = e.reason\n",
    "        print('Tweet Id:',tweet_id, '/ Cód Erro:', ast.literal_eval(erro[1:-1])['code'],\n",
    "              '/ Desc:',ast.literal_eval(erro[1:-1])['message'])"
   ]
  },
  {
   "cell_type": "markdown",
   "metadata": {},
   "source": [
    "- Foi feita uma comparaçao entre a quantidade total de registros do arquivo fornecido e a quantidade de registros lidos/salvos via API. Deduzida a quantidade de registros com erro de acesso."
   ]
  },
  {
   "cell_type": "code",
   "execution_count": 7,
   "metadata": {
    "scrolled": true
   },
   "outputs": [
    {
     "name": "stdout",
     "output_type": "stream",
     "text": [
      "Quantidade de registros fornecidos no arquivo \"twitter-archive-enhanced.csv\": 2356\n",
      "Quantidade de registros com erro de acesso: 11\n",
      "Quantidade de registros salvos via API do Twitter: 2345\n",
      "\n",
      "( 2356 - 11 ) - 2345 = 0 registros.\n"
     ]
    }
   ],
   "source": [
    "# Cria uma lista 'json_data' a partir do arquivo  'tweet_json.txt'\n",
    "fname = 'tweet_json.txt'\n",
    "json_data = []\n",
    "with open(fname, 'r') as f:\n",
    "    for line in f:\n",
    "        json_data.append(json.loads(line))\n",
    "print('Quantidade de registros fornecidos no arquivo \"twitter-archive-enhanced.csv\":', len(df_twi))\n",
    "print('Quantidade de registros com erro de acesso:', len(tweet_erros))\n",
    "print('Quantidade de registros salvos via API do Twitter:', len(json_data))\n",
    "print('\\n(', len(df_twi), '-', len(tweet_erros), ') -', len(json_data), '=',\n",
    "      (len(df_twi) - len(tweet_erros)) - len(json_data), 'registros.')"
   ]
  },
  {
   "cell_type": "markdown",
   "metadata": {},
   "source": [
    "- Também foi feita uma comparação entre os registros recebidos e salvos via API, filtrando os registros que tiveram erro de acesso."
   ]
  },
  {
   "cell_type": "code",
   "execution_count": 8,
   "metadata": {},
   "outputs": [
    {
     "name": "stdout",
     "output_type": "stream",
     "text": [
      "No arquivo fornecido, \"twitter-archive-enhanced.csv\", há 0 Tweets Id\n",
      "que não constam no arquivo \"tweet_json.txt\" criado via API do Twitter.\n"
     ]
    },
    {
     "data": {
      "text/plain": [
       "[]"
      ]
     },
     "execution_count": 8,
     "metadata": {},
     "output_type": "execute_result"
    }
   ],
   "source": [
    "# Cria lista de Ids de tweets fornecidos via arquivo\n",
    "tweets_id_fornecidos = df_twi.tweet_id\n",
    "\n",
    "# Cria lista de Ids de tweets salvos via API.\n",
    "tweets_id_api = []\n",
    "for d in json_data:\n",
    "    tweets_id_api.append(d.get('id'))\n",
    "    \n",
    "# Filtra tweets que faltam\n",
    "faltam = list(set(tweets_id_fornecidos) - set(tweet_erros))\n",
    "# Calcula tweets que faltam\n",
    "tweets_faltam = list(set(faltam) - set(tweets_id_api))\n",
    "\n",
    "print('No arquivo fornecido, \"twitter-archive-enhanced.csv\", há', len(tweets_faltam), 'Tweets Id\\nque não constam no arquivo \"tweet_json.txt\" criado via API do Twitter.')\n",
    "tweets_faltam"
   ]
  },
  {
   "cell_type": "markdown",
   "metadata": {},
   "source": [
    "- Confirmada a coleta de dados adicionais para todos os Tweets do arquivo 'twitter-archive-enhanced.csv' fornecido. Exceto os com status de inexistentes na base de dados do Twitter. Criou-se um dataframe como informações adicionais para cada um dos Tweets fornecidos."
   ]
  },
  {
   "cell_type": "code",
   "execution_count": 9,
   "metadata": {},
   "outputs": [],
   "source": [
    "# Lê json_data e cria a dataframe df_twi_add\n",
    "tweet_inf_add = []\n",
    "for tweet in json_data:\n",
    "    tweet_id = tweet.get('id')\n",
    "    favorite_count = tweet.get('favorite_count')\n",
    "    retweet_count = tweet.get('retweet_count')\n",
    "    tweet_inf_add.append([tweet_id, favorite_count, retweet_count])\n",
    "\n",
    "labels = ['tweet_id', 'favorite_count', 'retweet_count']\n",
    "df_twi_add = pd.DataFrame.from_records(tweet_inf_add, columns=labels)"
   ]
  },
  {
   "cell_type": "code",
   "execution_count": 10,
   "metadata": {
    "scrolled": true
   },
   "outputs": [
    {
     "data": {
      "text/html": [
       "<div>\n",
       "<style scoped>\n",
       "    .dataframe tbody tr th:only-of-type {\n",
       "        vertical-align: middle;\n",
       "    }\n",
       "\n",
       "    .dataframe tbody tr th {\n",
       "        vertical-align: top;\n",
       "    }\n",
       "\n",
       "    .dataframe thead th {\n",
       "        text-align: right;\n",
       "    }\n",
       "</style>\n",
       "<table border=\"1\" class=\"dataframe\">\n",
       "  <thead>\n",
       "    <tr style=\"text-align: right;\">\n",
       "      <th></th>\n",
       "      <th>tweet_id</th>\n",
       "      <th>favorite_count</th>\n",
       "      <th>retweet_count</th>\n",
       "    </tr>\n",
       "  </thead>\n",
       "  <tbody>\n",
       "    <tr>\n",
       "      <th>0</th>\n",
       "      <td>892420643555336193</td>\n",
       "      <td>38854</td>\n",
       "      <td>8609</td>\n",
       "    </tr>\n",
       "    <tr>\n",
       "      <th>1</th>\n",
       "      <td>892177421306343426</td>\n",
       "      <td>33281</td>\n",
       "      <td>6322</td>\n",
       "    </tr>\n",
       "    <tr>\n",
       "      <th>2</th>\n",
       "      <td>891815181378084864</td>\n",
       "      <td>25076</td>\n",
       "      <td>4194</td>\n",
       "    </tr>\n",
       "    <tr>\n",
       "      <th>3</th>\n",
       "      <td>891689557279858688</td>\n",
       "      <td>42240</td>\n",
       "      <td>8721</td>\n",
       "    </tr>\n",
       "    <tr>\n",
       "      <th>4</th>\n",
       "      <td>891327558926688256</td>\n",
       "      <td>40380</td>\n",
       "      <td>9489</td>\n",
       "    </tr>\n",
       "  </tbody>\n",
       "</table>\n",
       "</div>"
      ],
      "text/plain": [
       "             tweet_id  favorite_count  retweet_count\n",
       "0  892420643555336193           38854           8609\n",
       "1  892177421306343426           33281           6322\n",
       "2  891815181378084864           25076           4194\n",
       "3  891689557279858688           42240           8721\n",
       "4  891327558926688256           40380           9489"
      ]
     },
     "execution_count": 10,
     "metadata": {},
     "output_type": "execute_result"
    }
   ],
   "source": [
    "df_twi_add.head()"
   ]
  },
  {
   "cell_type": "markdown",
   "metadata": {},
   "source": [
    "#### Avaliação dos Dados"
   ]
  },
  {
   "cell_type": "markdown",
   "metadata": {},
   "source": [
    "##### Qualidade\n",
    "\n",
    "Dataframe de Tweets - **df_twi**  \n",
    "- Tem mais linhas que o do dataframe de informações adicionais **df_twi_add**. Devido aos registros não encontrados via API do Twitter.\n",
    "- Na coluna **in_reply_to_status_id** existem 2278 valores nulos.\n",
    "- Na coluna **in_reply_to_user_id** existem 2278 valores nulos.\n",
    "- Na coluna **retweeted_status_id** existem 2175 valores nulos.\n",
    "- Na coluna **retweeted_status_user_id** existem 2175 valores nulos.\n",
    "- Na coluna **retweeted_status_timestamp** existem 2175 valores nulos.\n",
    "- Na coluna **expanded_urls** existem 59 valores nulos.\n",
    "- As colunas 'doggo', 'floofer', 'pupper' e 'puppo', embora não estejam com valores 'NaN', há valores com a string 'None'.\n",
    "- Na coluna 'name', embora não hajam valores 'NaN', há valores com a string 'None' e valores que não parecem nomes como: 'a', 'actually' e 'just'. Nomes e o valor 'None' começam por letras maiúsculas, os valores que não são nomes nem 'None' estão com letras minúsculas.\n",
    "- Na coluna **rating_denominator** há denominadores diferentes de 10. Aparentemente a extração da classificação do cão feita sobre o campo texto, buscava trechos de strings que tivessem o caractér '/' e acabou pegando uma string com '/' que não era uma classificação. Provavelmente o valor em **rating_numerator** também está errado.\n",
    "- Na coluna **text**, é possível ver vários textos com 'RT' no início que são retweets, informação repetida.\n",
    "\n",
    "Dataframe de predições de raça por imagem **df_ima_pre**\n",
    "\n",
    "- Tem menos linhas que os dataframes **df_twi** e **df_twi_add**.\n",
    "- Os nomes das raças estão despadronizados, alguns em maiúsculas, outros em minúsculas e com as palavras separadas por 'underline' ao invés de espaço.\n",
    "\n",
    "Dataframe de dados limpos **df_tweets**\n",
    "\n",
    "- Durante o processo de análise optou-se por utilizar os valores da colunas **breed_predition_01** por ter maior índice de certeza de predição, de acordo com coluna **reliability_percent_01**. Porém, mesmo as linhas que tem 100% (1.0) na coluna **reliability_percent_01**, possuem valores na coluna **breed_predition_01** que não são nomes de raça. Porque o algorítimo de predição deu o nome para algo que identificou na foto e não da raça do cão."
   ]
  },
  {
   "cell_type": "markdown",
   "metadata": {},
   "source": [
    "##### Arrumação\n",
    "- Há dados sobre os mesmos Tweets em 3 dataframes diferentes.\n",
    "- De acordo com valores de classificação dos cães percebidos na coluna **texto**, a coluna **rating_numerator** pode necessitar armazenar valores do tipo **float**.\n",
    "- No dataframe **df_twi**, as colunas **doggo**, **floofer**, **pupper** e **puppo**, deveriam ser valores em uma coluna de estágios de cães.\n",
    "- No dataframe **df_ima_pre** colunas **p1**, **p1_conf**, **p1_dog**, **p2**, **p2_conf**, **p2_dog**, **p3**, **p3_conf** e **p3_dog** poderiam ter nomes mais descritivos."
   ]
  },
  {
   "cell_type": "markdown",
   "metadata": {},
   "source": [
    "*Foram feitas várias observações de dados*"
   ]
  },
  {
   "cell_type": "code",
   "execution_count": 11,
   "metadata": {
    "scrolled": true
   },
   "outputs": [
    {
     "name": "stdout",
     "output_type": "stream",
     "text": [
      "<class 'pandas.core.frame.DataFrame'>\n",
      "RangeIndex: 2356 entries, 0 to 2355\n",
      "Data columns (total 17 columns):\n",
      "tweet_id                      2356 non-null int64\n",
      "in_reply_to_status_id         78 non-null float64\n",
      "in_reply_to_user_id           78 non-null float64\n",
      "timestamp                     2356 non-null object\n",
      "source                        2356 non-null object\n",
      "text                          2356 non-null object\n",
      "retweeted_status_id           181 non-null float64\n",
      "retweeted_status_user_id      181 non-null float64\n",
      "retweeted_status_timestamp    181 non-null object\n",
      "expanded_urls                 2297 non-null object\n",
      "rating_numerator              2356 non-null int64\n",
      "rating_denominator            2356 non-null int64\n",
      "name                          2356 non-null object\n",
      "doggo                         2356 non-null object\n",
      "floofer                       2356 non-null object\n",
      "pupper                        2356 non-null object\n",
      "puppo                         2356 non-null object\n",
      "dtypes: float64(4), int64(3), object(10)\n",
      "memory usage: 313.0+ KB\n"
     ]
    }
   ],
   "source": [
    "df_twi.info()"
   ]
  },
  {
   "cell_type": "code",
   "execution_count": 12,
   "metadata": {},
   "outputs": [
    {
     "data": {
      "text/html": [
       "<div>\n",
       "<style scoped>\n",
       "    .dataframe tbody tr th:only-of-type {\n",
       "        vertical-align: middle;\n",
       "    }\n",
       "\n",
       "    .dataframe tbody tr th {\n",
       "        vertical-align: top;\n",
       "    }\n",
       "\n",
       "    .dataframe thead th {\n",
       "        text-align: right;\n",
       "    }\n",
       "</style>\n",
       "<table border=\"1\" class=\"dataframe\">\n",
       "  <thead>\n",
       "    <tr style=\"text-align: right;\">\n",
       "      <th></th>\n",
       "      <th>tweet_id</th>\n",
       "      <th>in_reply_to_status_id</th>\n",
       "      <th>in_reply_to_user_id</th>\n",
       "      <th>timestamp</th>\n",
       "      <th>source</th>\n",
       "      <th>text</th>\n",
       "      <th>retweeted_status_id</th>\n",
       "      <th>retweeted_status_user_id</th>\n",
       "      <th>retweeted_status_timestamp</th>\n",
       "      <th>expanded_urls</th>\n",
       "      <th>rating_numerator</th>\n",
       "      <th>rating_denominator</th>\n",
       "      <th>name</th>\n",
       "      <th>doggo</th>\n",
       "      <th>floofer</th>\n",
       "      <th>pupper</th>\n",
       "      <th>puppo</th>\n",
       "    </tr>\n",
       "  </thead>\n",
       "  <tbody>\n",
       "    <tr>\n",
       "      <th>45</th>\n",
       "      <td>883482846933004288</td>\n",
       "      <td>NaN</td>\n",
       "      <td>NaN</td>\n",
       "      <td>2017-07-08 00:28:19 +0000</td>\n",
       "      <td>&lt;a href=\"http://twitter.com/download/iphone\" r...</td>\n",
       "      <td>This is Bella. She hopes her smile made you sm...</td>\n",
       "      <td>NaN</td>\n",
       "      <td>NaN</td>\n",
       "      <td>NaN</td>\n",
       "      <td>https://twitter.com/dog_rates/status/883482846...</td>\n",
       "      <td>5</td>\n",
       "      <td>10</td>\n",
       "      <td>Bella</td>\n",
       "      <td>None</td>\n",
       "      <td>None</td>\n",
       "      <td>None</td>\n",
       "      <td>None</td>\n",
       "    </tr>\n",
       "    <tr>\n",
       "      <th>842</th>\n",
       "      <td>766793450729734144</td>\n",
       "      <td>NaN</td>\n",
       "      <td>NaN</td>\n",
       "      <td>2016-08-20 00:26:19 +0000</td>\n",
       "      <td>&lt;a href=\"http://twitter.com/download/iphone\" r...</td>\n",
       "      <td>This is Rufus. He just missed out on the 100m ...</td>\n",
       "      <td>NaN</td>\n",
       "      <td>NaN</td>\n",
       "      <td>NaN</td>\n",
       "      <td>https://twitter.com/dog_rates/status/766793450...</td>\n",
       "      <td>10</td>\n",
       "      <td>10</td>\n",
       "      <td>Rufus</td>\n",
       "      <td>None</td>\n",
       "      <td>None</td>\n",
       "      <td>None</td>\n",
       "      <td>None</td>\n",
       "    </tr>\n",
       "    <tr>\n",
       "      <th>2002</th>\n",
       "      <td>672481316919734272</td>\n",
       "      <td>NaN</td>\n",
       "      <td>NaN</td>\n",
       "      <td>2015-12-03 18:23:34 +0000</td>\n",
       "      <td>&lt;a href=\"http://twitter.com/download/iphone\" r...</td>\n",
       "      <td>Say hello to Jazz. She should be on the cover ...</td>\n",
       "      <td>NaN</td>\n",
       "      <td>NaN</td>\n",
       "      <td>NaN</td>\n",
       "      <td>https://twitter.com/dog_rates/status/672481316...</td>\n",
       "      <td>12</td>\n",
       "      <td>10</td>\n",
       "      <td>Jazz</td>\n",
       "      <td>None</td>\n",
       "      <td>None</td>\n",
       "      <td>pupper</td>\n",
       "      <td>None</td>\n",
       "    </tr>\n",
       "    <tr>\n",
       "      <th>835</th>\n",
       "      <td>768193404517830656</td>\n",
       "      <td>NaN</td>\n",
       "      <td>NaN</td>\n",
       "      <td>2016-08-23 21:09:14 +0000</td>\n",
       "      <td>&lt;a href=\"http://twitter.com/download/iphone\" r...</td>\n",
       "      <td>Meet Gerald. He's a fairly exotic doggo. Floof...</td>\n",
       "      <td>NaN</td>\n",
       "      <td>NaN</td>\n",
       "      <td>NaN</td>\n",
       "      <td>https://twitter.com/dog_rates/status/768193404...</td>\n",
       "      <td>8</td>\n",
       "      <td>10</td>\n",
       "      <td>Gerald</td>\n",
       "      <td>doggo</td>\n",
       "      <td>None</td>\n",
       "      <td>None</td>\n",
       "      <td>None</td>\n",
       "    </tr>\n",
       "    <tr>\n",
       "      <th>1484</th>\n",
       "      <td>693231807727280129</td>\n",
       "      <td>NaN</td>\n",
       "      <td>NaN</td>\n",
       "      <td>2016-01-30 00:38:37 +0000</td>\n",
       "      <td>&lt;a href=\"http://twitter.com/download/iphone\" r...</td>\n",
       "      <td>This is Bodie. He's not proud of what he did, ...</td>\n",
       "      <td>NaN</td>\n",
       "      <td>NaN</td>\n",
       "      <td>NaN</td>\n",
       "      <td>https://twitter.com/dog_rates/status/693231807...</td>\n",
       "      <td>9</td>\n",
       "      <td>10</td>\n",
       "      <td>Bodie</td>\n",
       "      <td>None</td>\n",
       "      <td>None</td>\n",
       "      <td>None</td>\n",
       "      <td>None</td>\n",
       "    </tr>\n",
       "  </tbody>\n",
       "</table>\n",
       "</div>"
      ],
      "text/plain": [
       "                tweet_id  in_reply_to_status_id  in_reply_to_user_id  \\\n",
       "45    883482846933004288                    NaN                  NaN   \n",
       "842   766793450729734144                    NaN                  NaN   \n",
       "2002  672481316919734272                    NaN                  NaN   \n",
       "835   768193404517830656                    NaN                  NaN   \n",
       "1484  693231807727280129                    NaN                  NaN   \n",
       "\n",
       "                      timestamp  \\\n",
       "45    2017-07-08 00:28:19 +0000   \n",
       "842   2016-08-20 00:26:19 +0000   \n",
       "2002  2015-12-03 18:23:34 +0000   \n",
       "835   2016-08-23 21:09:14 +0000   \n",
       "1484  2016-01-30 00:38:37 +0000   \n",
       "\n",
       "                                                 source  \\\n",
       "45    <a href=\"http://twitter.com/download/iphone\" r...   \n",
       "842   <a href=\"http://twitter.com/download/iphone\" r...   \n",
       "2002  <a href=\"http://twitter.com/download/iphone\" r...   \n",
       "835   <a href=\"http://twitter.com/download/iphone\" r...   \n",
       "1484  <a href=\"http://twitter.com/download/iphone\" r...   \n",
       "\n",
       "                                                   text  retweeted_status_id  \\\n",
       "45    This is Bella. She hopes her smile made you sm...                  NaN   \n",
       "842   This is Rufus. He just missed out on the 100m ...                  NaN   \n",
       "2002  Say hello to Jazz. She should be on the cover ...                  NaN   \n",
       "835   Meet Gerald. He's a fairly exotic doggo. Floof...                  NaN   \n",
       "1484  This is Bodie. He's not proud of what he did, ...                  NaN   \n",
       "\n",
       "      retweeted_status_user_id retweeted_status_timestamp  \\\n",
       "45                         NaN                        NaN   \n",
       "842                        NaN                        NaN   \n",
       "2002                       NaN                        NaN   \n",
       "835                        NaN                        NaN   \n",
       "1484                       NaN                        NaN   \n",
       "\n",
       "                                          expanded_urls  rating_numerator  \\\n",
       "45    https://twitter.com/dog_rates/status/883482846...                 5   \n",
       "842   https://twitter.com/dog_rates/status/766793450...                10   \n",
       "2002  https://twitter.com/dog_rates/status/672481316...                12   \n",
       "835   https://twitter.com/dog_rates/status/768193404...                 8   \n",
       "1484  https://twitter.com/dog_rates/status/693231807...                 9   \n",
       "\n",
       "      rating_denominator    name  doggo floofer  pupper puppo  \n",
       "45                    10   Bella   None    None    None  None  \n",
       "842                   10   Rufus   None    None    None  None  \n",
       "2002                  10    Jazz   None    None  pupper  None  \n",
       "835                   10  Gerald  doggo    None    None  None  \n",
       "1484                  10   Bodie   None    None    None  None  "
      ]
     },
     "execution_count": 12,
     "metadata": {},
     "output_type": "execute_result"
    }
   ],
   "source": [
    "df_twi.sample(5)"
   ]
  },
  {
   "cell_type": "code",
   "execution_count": 13,
   "metadata": {},
   "outputs": [
    {
     "data": {
      "text/plain": [
       "True     2278\n",
       "False      78\n",
       "Name: in_reply_to_status_id, dtype: int64"
      ]
     },
     "execution_count": 13,
     "metadata": {},
     "output_type": "execute_result"
    }
   ],
   "source": [
    "df_twi.in_reply_to_status_id.isnull().value_counts()"
   ]
  },
  {
   "cell_type": "code",
   "execution_count": 14,
   "metadata": {},
   "outputs": [
    {
     "data": {
      "text/plain": [
       "True     2278\n",
       "False      78\n",
       "Name: in_reply_to_user_id, dtype: int64"
      ]
     },
     "execution_count": 14,
     "metadata": {},
     "output_type": "execute_result"
    }
   ],
   "source": [
    "df_twi.in_reply_to_user_id.isnull().value_counts()"
   ]
  },
  {
   "cell_type": "code",
   "execution_count": 15,
   "metadata": {},
   "outputs": [
    {
     "data": {
      "text/plain": [
       "True     2175\n",
       "False     181\n",
       "Name: retweeted_status_id, dtype: int64"
      ]
     },
     "execution_count": 15,
     "metadata": {},
     "output_type": "execute_result"
    }
   ],
   "source": [
    "df_twi.retweeted_status_id.isnull().value_counts()"
   ]
  },
  {
   "cell_type": "code",
   "execution_count": 16,
   "metadata": {},
   "outputs": [
    {
     "data": {
      "text/plain": [
       "True     2175\n",
       "False     181\n",
       "Name: retweeted_status_user_id, dtype: int64"
      ]
     },
     "execution_count": 16,
     "metadata": {},
     "output_type": "execute_result"
    }
   ],
   "source": [
    "df_twi.retweeted_status_user_id.isnull().value_counts()"
   ]
  },
  {
   "cell_type": "code",
   "execution_count": 17,
   "metadata": {},
   "outputs": [
    {
     "data": {
      "text/plain": [
       "True     2175\n",
       "False     181\n",
       "Name: retweeted_status_timestamp, dtype: int64"
      ]
     },
     "execution_count": 17,
     "metadata": {},
     "output_type": "execute_result"
    }
   ],
   "source": [
    "df_twi.retweeted_status_timestamp.isnull().value_counts()"
   ]
  },
  {
   "cell_type": "code",
   "execution_count": 18,
   "metadata": {
    "scrolled": true
   },
   "outputs": [
    {
     "data": {
      "text/plain": [
       "False    2297\n",
       "True       59\n",
       "Name: expanded_urls, dtype: int64"
      ]
     },
     "execution_count": 18,
     "metadata": {},
     "output_type": "execute_result"
    }
   ],
   "source": [
    "df_twi.expanded_urls.isnull().value_counts()"
   ]
  },
  {
   "cell_type": "code",
   "execution_count": 19,
   "metadata": {},
   "outputs": [
    {
     "name": "stdout",
     "output_type": "stream",
     "text": [
      "['such', 'a', 'quite', 'quite', 'quite', 'not', 'one', 'incredibly', 'a', 'mad', 'an', 'very', 'a', 'very', 'just', 'my', 'one', 'not', 'his', 'one', 'a', 'a', 'a', 'an', 'very', 'actually', 'a', 'just', 'getting', 'mad', 'very', 'this', 'unacceptable', 'all', 'a', 'old', 'a', 'infuriating', 'a', 'a', 'a', 'an', 'a', 'a', 'very', 'getting', 'just', 'a', 'the', 'the', 'actually', 'by', 'a', 'officially', 'a', 'the', 'the', 'a', 'a', 'a', 'a', 'life', 'a', 'one', 'a', 'a', 'a', 'light', 'just', 'space', 'a', 'the', 'a', 'a', 'a', 'a', 'a', 'a', 'a', 'a', 'a', 'an', 'a', 'the', 'a', 'a', 'a', 'a', 'a', 'a', 'a', 'a', 'a', 'a', 'a', 'quite', 'a', 'an', 'a', 'an', 'the', 'the', 'a', 'a', 'an', 'a', 'a', 'a', 'a']\n"
     ]
    }
   ],
   "source": [
    "# Valores que não parecem nomes\n",
    "no_names =[]\n",
    "for t in df_twi['name']:\n",
    "    if t.islower():\n",
    "        no_names.append(t)\n",
    "print(no_names)"
   ]
  },
  {
   "cell_type": "code",
   "execution_count": 20,
   "metadata": {},
   "outputs": [
    {
     "name": "stdout",
     "output_type": "stream",
     "text": [
      "<class 'pandas.core.frame.DataFrame'>\n",
      "RangeIndex: 2345 entries, 0 to 2344\n",
      "Data columns (total 3 columns):\n",
      "tweet_id          2345 non-null int64\n",
      "favorite_count    2345 non-null int64\n",
      "retweet_count     2345 non-null int64\n",
      "dtypes: int64(3)\n",
      "memory usage: 55.0 KB\n"
     ]
    }
   ],
   "source": [
    "df_twi_add.info()"
   ]
  },
  {
   "cell_type": "code",
   "execution_count": 21,
   "metadata": {},
   "outputs": [
    {
     "name": "stdout",
     "output_type": "stream",
     "text": [
      "<class 'pandas.core.frame.DataFrame'>\n",
      "RangeIndex: 2075 entries, 0 to 2074\n",
      "Data columns (total 12 columns):\n",
      "tweet_id    2075 non-null int64\n",
      "jpg_url     2075 non-null object\n",
      "img_num     2075 non-null int64\n",
      "p1          2075 non-null object\n",
      "p1_conf     2075 non-null float64\n",
      "p1_dog      2075 non-null bool\n",
      "p2          2075 non-null object\n",
      "p2_conf     2075 non-null float64\n",
      "p2_dog      2075 non-null bool\n",
      "p3          2075 non-null object\n",
      "p3_conf     2075 non-null float64\n",
      "p3_dog      2075 non-null bool\n",
      "dtypes: bool(3), float64(3), int64(2), object(4)\n",
      "memory usage: 152.1+ KB\n"
     ]
    }
   ],
   "source": [
    "df_ima_pre.info()"
   ]
  },
  {
   "cell_type": "code",
   "execution_count": 22,
   "metadata": {
    "scrolled": true
   },
   "outputs": [
    {
     "data": {
      "text/html": [
       "<div>\n",
       "<style scoped>\n",
       "    .dataframe tbody tr th:only-of-type {\n",
       "        vertical-align: middle;\n",
       "    }\n",
       "\n",
       "    .dataframe tbody tr th {\n",
       "        vertical-align: top;\n",
       "    }\n",
       "\n",
       "    .dataframe thead th {\n",
       "        text-align: right;\n",
       "    }\n",
       "</style>\n",
       "<table border=\"1\" class=\"dataframe\">\n",
       "  <thead>\n",
       "    <tr style=\"text-align: right;\">\n",
       "      <th></th>\n",
       "      <th>tweet_id</th>\n",
       "      <th>jpg_url</th>\n",
       "      <th>img_num</th>\n",
       "      <th>p1</th>\n",
       "      <th>p1_conf</th>\n",
       "      <th>p1_dog</th>\n",
       "      <th>p2</th>\n",
       "      <th>p2_conf</th>\n",
       "      <th>p2_dog</th>\n",
       "      <th>p3</th>\n",
       "      <th>p3_conf</th>\n",
       "      <th>p3_dog</th>\n",
       "    </tr>\n",
       "  </thead>\n",
       "  <tbody>\n",
       "    <tr>\n",
       "      <th>1680</th>\n",
       "      <td>813800681631023104</td>\n",
       "      <td>https://pbs.twimg.com/media/C0szZh_XUAAm9je.jpg</td>\n",
       "      <td>1</td>\n",
       "      <td>malamute</td>\n",
       "      <td>0.501159</td>\n",
       "      <td>True</td>\n",
       "      <td>Siberian_husky</td>\n",
       "      <td>0.228792</td>\n",
       "      <td>True</td>\n",
       "      <td>Eskimo_dog</td>\n",
       "      <td>0.200388</td>\n",
       "      <td>True</td>\n",
       "    </tr>\n",
       "    <tr>\n",
       "      <th>433</th>\n",
       "      <td>674318007229923329</td>\n",
       "      <td>https://pbs.twimg.com/media/CVuopr8WwAExw_T.jpg</td>\n",
       "      <td>1</td>\n",
       "      <td>porcupine</td>\n",
       "      <td>0.846628</td>\n",
       "      <td>False</td>\n",
       "      <td>hamster</td>\n",
       "      <td>0.038136</td>\n",
       "      <td>False</td>\n",
       "      <td>echidna</td>\n",
       "      <td>0.014680</td>\n",
       "      <td>False</td>\n",
       "    </tr>\n",
       "    <tr>\n",
       "      <th>458</th>\n",
       "      <td>674788554665512960</td>\n",
       "      <td>https://pbs.twimg.com/media/CV1Um8vWIAAmhQn.jpg</td>\n",
       "      <td>1</td>\n",
       "      <td>miniature_poodle</td>\n",
       "      <td>0.349561</td>\n",
       "      <td>True</td>\n",
       "      <td>toy_poodle</td>\n",
       "      <td>0.154711</td>\n",
       "      <td>True</td>\n",
       "      <td>Maltese_dog</td>\n",
       "      <td>0.134229</td>\n",
       "      <td>True</td>\n",
       "    </tr>\n",
       "    <tr>\n",
       "      <th>1815</th>\n",
       "      <td>833826103416520705</td>\n",
       "      <td>https://pbs.twimg.com/media/C5JYaYoVYAAcEQw.jpg</td>\n",
       "      <td>1</td>\n",
       "      <td>Chihuahua</td>\n",
       "      <td>0.438054</td>\n",
       "      <td>True</td>\n",
       "      <td>kelpie</td>\n",
       "      <td>0.149706</td>\n",
       "      <td>True</td>\n",
       "      <td>Pembroke</td>\n",
       "      <td>0.096480</td>\n",
       "      <td>True</td>\n",
       "    </tr>\n",
       "    <tr>\n",
       "      <th>1453</th>\n",
       "      <td>776819012571455488</td>\n",
       "      <td>https://pbs.twimg.com/media/CW88XN4WsAAlo8r.jpg</td>\n",
       "      <td>3</td>\n",
       "      <td>Chihuahua</td>\n",
       "      <td>0.346545</td>\n",
       "      <td>True</td>\n",
       "      <td>dalmatian</td>\n",
       "      <td>0.166246</td>\n",
       "      <td>True</td>\n",
       "      <td>toy_terrier</td>\n",
       "      <td>0.117502</td>\n",
       "      <td>True</td>\n",
       "    </tr>\n",
       "    <tr>\n",
       "      <th>813</th>\n",
       "      <td>692535307825213440</td>\n",
       "      <td>https://pbs.twimg.com/media/CZxhL2yWAAI_DHn.jpg</td>\n",
       "      <td>1</td>\n",
       "      <td>pug</td>\n",
       "      <td>0.413090</td>\n",
       "      <td>True</td>\n",
       "      <td>French_bulldog</td>\n",
       "      <td>0.199865</td>\n",
       "      <td>True</td>\n",
       "      <td>Chihuahua</td>\n",
       "      <td>0.081991</td>\n",
       "      <td>True</td>\n",
       "    </tr>\n",
       "    <tr>\n",
       "      <th>1636</th>\n",
       "      <td>806242860592926720</td>\n",
       "      <td>https://pbs.twimg.com/media/Ct72q9jWcAAhlnw.jpg</td>\n",
       "      <td>2</td>\n",
       "      <td>Cardigan</td>\n",
       "      <td>0.593858</td>\n",
       "      <td>True</td>\n",
       "      <td>Shetland_sheepdog</td>\n",
       "      <td>0.130611</td>\n",
       "      <td>True</td>\n",
       "      <td>Pembroke</td>\n",
       "      <td>0.100842</td>\n",
       "      <td>True</td>\n",
       "    </tr>\n",
       "    <tr>\n",
       "      <th>1782</th>\n",
       "      <td>828770345708580865</td>\n",
       "      <td>https://pbs.twimg.com/media/C4BiOXOXAAAf6IS.jpg</td>\n",
       "      <td>1</td>\n",
       "      <td>seat_belt</td>\n",
       "      <td>0.765979</td>\n",
       "      <td>False</td>\n",
       "      <td>Chesapeake_Bay_retriever</td>\n",
       "      <td>0.033899</td>\n",
       "      <td>True</td>\n",
       "      <td>polecat</td>\n",
       "      <td>0.027252</td>\n",
       "      <td>False</td>\n",
       "    </tr>\n",
       "    <tr>\n",
       "      <th>2026</th>\n",
       "      <td>882045870035918850</td>\n",
       "      <td>https://pbs.twimg.com/media/DD2oCl2WAAEI_4a.jpg</td>\n",
       "      <td>1</td>\n",
       "      <td>web_site</td>\n",
       "      <td>0.949591</td>\n",
       "      <td>False</td>\n",
       "      <td>dhole</td>\n",
       "      <td>0.017326</td>\n",
       "      <td>False</td>\n",
       "      <td>golden_retriever</td>\n",
       "      <td>0.006941</td>\n",
       "      <td>True</td>\n",
       "    </tr>\n",
       "    <tr>\n",
       "      <th>695</th>\n",
       "      <td>684460069371654144</td>\n",
       "      <td>https://pbs.twimg.com/media/CX-wzZEUwAA4ISM.jpg</td>\n",
       "      <td>1</td>\n",
       "      <td>Labrador_retriever</td>\n",
       "      <td>0.673691</td>\n",
       "      <td>True</td>\n",
       "      <td>Chesapeake_Bay_retriever</td>\n",
       "      <td>0.194897</td>\n",
       "      <td>True</td>\n",
       "      <td>American_Staffordshire_terrier</td>\n",
       "      <td>0.059471</td>\n",
       "      <td>True</td>\n",
       "    </tr>\n",
       "  </tbody>\n",
       "</table>\n",
       "</div>"
      ],
      "text/plain": [
       "                tweet_id                                          jpg_url  \\\n",
       "1680  813800681631023104  https://pbs.twimg.com/media/C0szZh_XUAAm9je.jpg   \n",
       "433   674318007229923329  https://pbs.twimg.com/media/CVuopr8WwAExw_T.jpg   \n",
       "458   674788554665512960  https://pbs.twimg.com/media/CV1Um8vWIAAmhQn.jpg   \n",
       "1815  833826103416520705  https://pbs.twimg.com/media/C5JYaYoVYAAcEQw.jpg   \n",
       "1453  776819012571455488  https://pbs.twimg.com/media/CW88XN4WsAAlo8r.jpg   \n",
       "813   692535307825213440  https://pbs.twimg.com/media/CZxhL2yWAAI_DHn.jpg   \n",
       "1636  806242860592926720  https://pbs.twimg.com/media/Ct72q9jWcAAhlnw.jpg   \n",
       "1782  828770345708580865  https://pbs.twimg.com/media/C4BiOXOXAAAf6IS.jpg   \n",
       "2026  882045870035918850  https://pbs.twimg.com/media/DD2oCl2WAAEI_4a.jpg   \n",
       "695   684460069371654144  https://pbs.twimg.com/media/CX-wzZEUwAA4ISM.jpg   \n",
       "\n",
       "      img_num                  p1   p1_conf  p1_dog                        p2  \\\n",
       "1680        1            malamute  0.501159    True            Siberian_husky   \n",
       "433         1           porcupine  0.846628   False                   hamster   \n",
       "458         1    miniature_poodle  0.349561    True                toy_poodle   \n",
       "1815        1           Chihuahua  0.438054    True                    kelpie   \n",
       "1453        3           Chihuahua  0.346545    True                 dalmatian   \n",
       "813         1                 pug  0.413090    True            French_bulldog   \n",
       "1636        2            Cardigan  0.593858    True         Shetland_sheepdog   \n",
       "1782        1           seat_belt  0.765979   False  Chesapeake_Bay_retriever   \n",
       "2026        1            web_site  0.949591   False                     dhole   \n",
       "695         1  Labrador_retriever  0.673691    True  Chesapeake_Bay_retriever   \n",
       "\n",
       "       p2_conf  p2_dog                              p3   p3_conf  p3_dog  \n",
       "1680  0.228792    True                      Eskimo_dog  0.200388    True  \n",
       "433   0.038136   False                         echidna  0.014680   False  \n",
       "458   0.154711    True                     Maltese_dog  0.134229    True  \n",
       "1815  0.149706    True                        Pembroke  0.096480    True  \n",
       "1453  0.166246    True                     toy_terrier  0.117502    True  \n",
       "813   0.199865    True                       Chihuahua  0.081991    True  \n",
       "1636  0.130611    True                        Pembroke  0.100842    True  \n",
       "1782  0.033899    True                         polecat  0.027252   False  \n",
       "2026  0.017326   False                golden_retriever  0.006941    True  \n",
       "695   0.194897    True  American_Staffordshire_terrier  0.059471    True  "
      ]
     },
     "execution_count": 22,
     "metadata": {},
     "output_type": "execute_result"
    }
   ],
   "source": [
    "df_ima_pre.sample(10)"
   ]
  },
  {
   "cell_type": "markdown",
   "metadata": {},
   "source": [
    "---"
   ]
  },
  {
   "cell_type": "markdown",
   "metadata": {},
   "source": [
    "### Limpeza de Dados"
   ]
  },
  {
   "cell_type": "markdown",
   "metadata": {},
   "source": [
    "##### Limpeza 01\n",
    "O dataframe **df_twi** tem mais linhas que o do dataframe de informações adicionais **df_twi_add**. Devido aos registros não encontrados via API do Twitter.\n",
    "#### Definição\n",
    "- Descartar as linhas do dataframes **df_twi** referentes aos Tweets não encontrados via API do Twitter."
   ]
  },
  {
   "cell_type": "markdown",
   "metadata": {},
   "source": [
    "##### Codificação"
   ]
  },
  {
   "cell_type": "code",
   "execution_count": 23,
   "metadata": {},
   "outputs": [],
   "source": [
    "# Faz uma cópia do dataframe\n",
    "df_twi_v1 = df_twi.copy()\n",
    "\n",
    "# Remove linhas do dataframe df_twi referentes aos Tweets não encontrados via API do Twitter.\n",
    "for t_id in tweet_erros:\n",
    "    df_twi.drop(df_twi.index[df_twi['tweet_id'] == t_id], inplace = True)"
   ]
  },
  {
   "cell_type": "markdown",
   "metadata": {},
   "source": [
    "##### Teste"
   ]
  },
  {
   "cell_type": "code",
   "execution_count": 24,
   "metadata": {},
   "outputs": [
    {
     "data": {
      "text/plain": [
       "2345"
      ]
     },
     "execution_count": 24,
     "metadata": {},
     "output_type": "execute_result"
    }
   ],
   "source": [
    "# Verifica a quantidade de linhas.\n",
    "len(df_twi_add)"
   ]
  },
  {
   "cell_type": "code",
   "execution_count": 25,
   "metadata": {},
   "outputs": [
    {
     "data": {
      "text/plain": [
       "2345"
      ]
     },
     "execution_count": 25,
     "metadata": {},
     "output_type": "execute_result"
    }
   ],
   "source": [
    "# Verifica a quantidade de linhas.\n",
    "len(df_twi)"
   ]
  },
  {
   "cell_type": "markdown",
   "metadata": {},
   "source": [
    "---"
   ]
  },
  {
   "cell_type": "markdown",
   "metadata": {},
   "source": [
    "##### Limpeza 02\n",
    "O dataframe **df_ima_pre** tem menos linhas que os dataframes **df_twi** e **df_twi_add**.\n",
    "#### Definição\n",
    "- Descartar as linhas dos dataframes **df_twi** e **df_twi_add** que não tiverem Tweet Id correpondente no dataframe **df_ima_pre**.\n",
    "- Descartar as linhas do dataframe **df_ima_pre** referentes aos Tweets não encontrados via API do Twitter."
   ]
  },
  {
   "cell_type": "markdown",
   "metadata": {},
   "source": [
    "##### Codificação"
   ]
  },
  {
   "cell_type": "code",
   "execution_count": 26,
   "metadata": {},
   "outputs": [],
   "source": [
    "# Faz uma cópia do dataframe\n",
    "df_twi_v2 = df_twi.copy()\n",
    "\n",
    "# Remove linhas do dataframe df_twi que não tenham Tweet Id correspondente em df_ima_pre\n",
    "for t_id in df_twi.tweet_id:\n",
    "    if (any(df_ima_pre.tweet_id == t_id)):\n",
    "        a = 1\n",
    "    else:\n",
    "        df_twi.drop(df_twi.index[df_twi['tweet_id'] == t_id], inplace = True)"
   ]
  },
  {
   "cell_type": "code",
   "execution_count": 27,
   "metadata": {},
   "outputs": [],
   "source": [
    "# Faz uma cópia dataframe\n",
    "df_twi_add_v1 = df_twi_add.copy()\n",
    "\n",
    "# Remove linhas do dataframe df_twi_add que não tenham Tweet Id correspondente em df_ima_pre\n",
    "for t_id in df_twi_add.tweet_id:\n",
    "    if (any(df_ima_pre.tweet_id == t_id)):\n",
    "        a = 1\n",
    "    else:\n",
    "        df_twi_add.drop(df_twi_add.index[df_twi_add['tweet_id'] == t_id], inplace = True)"
   ]
  },
  {
   "cell_type": "code",
   "execution_count": 28,
   "metadata": {},
   "outputs": [],
   "source": [
    "# Faz uma cópia dataframe\n",
    "df_ima_pre_v1 = df_ima_pre.copy()\n",
    "\n",
    "# Remove linhas do dataframe df_ima_pre referentes aos Tweets não encontrados via API do Twitter.\n",
    "for t_id in tweet_erros:\n",
    "    df_ima_pre.drop(df_ima_pre.index[df_ima_pre['tweet_id'] == t_id], inplace = True)"
   ]
  },
  {
   "cell_type": "markdown",
   "metadata": {},
   "source": [
    "##### Teste"
   ]
  },
  {
   "cell_type": "code",
   "execution_count": 29,
   "metadata": {},
   "outputs": [
    {
     "data": {
      "text/plain": [
       "2069"
      ]
     },
     "execution_count": 29,
     "metadata": {},
     "output_type": "execute_result"
    }
   ],
   "source": [
    "# Verifica a quantidade de linhas.\n",
    "len(df_twi)"
   ]
  },
  {
   "cell_type": "code",
   "execution_count": 30,
   "metadata": {},
   "outputs": [
    {
     "data": {
      "text/plain": [
       "2069"
      ]
     },
     "execution_count": 30,
     "metadata": {},
     "output_type": "execute_result"
    }
   ],
   "source": [
    "# Verifica a quantidade de linhas.\n",
    "len(df_twi_add)"
   ]
  },
  {
   "cell_type": "code",
   "execution_count": 31,
   "metadata": {},
   "outputs": [
    {
     "data": {
      "text/plain": [
       "2069"
      ]
     },
     "execution_count": 31,
     "metadata": {},
     "output_type": "execute_result"
    }
   ],
   "source": [
    "# Verifica a quantidade de linhas.\n",
    "len(df_ima_pre)"
   ]
  },
  {
   "cell_type": "markdown",
   "metadata": {},
   "source": [
    "---"
   ]
  },
  {
   "cell_type": "markdown",
   "metadata": {},
   "source": [
    "##### Limpeza 03\n",
    "\n",
    "No dataframe de Tweets **df_twi**   \n",
    "Na coluna **in_reply_to_status_id** existem 2278 valores nulos.  \n",
    "Na coluna **in_reply_to_user_id** existem 2278 valores nulos.  \n",
    "Na coluna **retweeted_status_id** existem 2175 valores nulos.  \n",
    "Na coluna **retweeted_status_user_id** existem 2175 valores nulos.  \n",
    "Na coluna **retweeted_status_timestamp** existem 2175 valores nulos.  \n",
    "Na coluna **expanded_urls** existem 59 valores nulos.\n",
    "#### Definição\n",
    "- Descartar as colunas."
   ]
  },
  {
   "cell_type": "markdown",
   "metadata": {},
   "source": [
    "##### Codificação"
   ]
  },
  {
   "cell_type": "code",
   "execution_count": 32,
   "metadata": {},
   "outputs": [],
   "source": [
    "# Faz uma cópia do dataframe\n",
    "df_twi_v3 = df_twi.copy()\n",
    "\n",
    "# Descarta colunas\n",
    "df_twi.drop(['in_reply_to_status_id', 'in_reply_to_user_id', 'retweeted_status_id', 'retweeted_status_user_id',\n",
    "             'retweeted_status_timestamp', 'expanded_urls'], axis=1, inplace = True)"
   ]
  },
  {
   "cell_type": "markdown",
   "metadata": {},
   "source": [
    "##### Teste"
   ]
  },
  {
   "cell_type": "code",
   "execution_count": 33,
   "metadata": {},
   "outputs": [
    {
     "name": "stdout",
     "output_type": "stream",
     "text": [
      "<class 'pandas.core.frame.DataFrame'>\n",
      "Int64Index: 2069 entries, 0 to 2355\n",
      "Data columns (total 11 columns):\n",
      "tweet_id              2069 non-null int64\n",
      "timestamp             2069 non-null object\n",
      "source                2069 non-null object\n",
      "text                  2069 non-null object\n",
      "rating_numerator      2069 non-null int64\n",
      "rating_denominator    2069 non-null int64\n",
      "name                  2069 non-null object\n",
      "doggo                 2069 non-null object\n",
      "floofer               2069 non-null object\n",
      "pupper                2069 non-null object\n",
      "puppo                 2069 non-null object\n",
      "dtypes: int64(3), object(8)\n",
      "memory usage: 194.0+ KB\n"
     ]
    }
   ],
   "source": [
    "df_twi.info()"
   ]
  },
  {
   "cell_type": "markdown",
   "metadata": {},
   "source": [
    "---"
   ]
  },
  {
   "cell_type": "markdown",
   "metadata": {},
   "source": [
    "##### Limpeza 04\n",
    "\n",
    "Há dados sobre os mesmos Tweets em 3 dataframes diferentes.\n",
    "#### Definição\n",
    "- Unir as colunas dos 3 dataframes **df_twi**, **df_twi_add** e **df_ima_pre** em um novo dataframe."
   ]
  },
  {
   "cell_type": "markdown",
   "metadata": {},
   "source": [
    "##### Codificação"
   ]
  },
  {
   "cell_type": "code",
   "execution_count": 34,
   "metadata": {},
   "outputs": [],
   "source": [
    "# Une as colunas do dataframe df_twi com as do dataframe df_twi_add em um dataframe intermediário df_result.\n",
    "df_result = pd.merge(df_twi, df_twi_add, on='tweet_id')"
   ]
  },
  {
   "cell_type": "code",
   "execution_count": 35,
   "metadata": {},
   "outputs": [],
   "source": [
    "# Une as colunas do dataframe df_result com as do dataframe df_ima_pre no dataframe final df_tweets.\n",
    "df_tweets = pd.merge(df_result, df_ima_pre, on='tweet_id')"
   ]
  },
  {
   "cell_type": "markdown",
   "metadata": {},
   "source": [
    "##### Teste"
   ]
  },
  {
   "cell_type": "code",
   "execution_count": 36,
   "metadata": {
    "scrolled": true
   },
   "outputs": [
    {
     "name": "stdout",
     "output_type": "stream",
     "text": [
      "<class 'pandas.core.frame.DataFrame'>\n",
      "Int64Index: 2069 entries, 0 to 2068\n",
      "Data columns (total 24 columns):\n",
      "tweet_id              2069 non-null int64\n",
      "timestamp             2069 non-null object\n",
      "source                2069 non-null object\n",
      "text                  2069 non-null object\n",
      "rating_numerator      2069 non-null int64\n",
      "rating_denominator    2069 non-null int64\n",
      "name                  2069 non-null object\n",
      "doggo                 2069 non-null object\n",
      "floofer               2069 non-null object\n",
      "pupper                2069 non-null object\n",
      "puppo                 2069 non-null object\n",
      "favorite_count        2069 non-null int64\n",
      "retweet_count         2069 non-null int64\n",
      "jpg_url               2069 non-null object\n",
      "img_num               2069 non-null int64\n",
      "p1                    2069 non-null object\n",
      "p1_conf               2069 non-null float64\n",
      "p1_dog                2069 non-null bool\n",
      "p2                    2069 non-null object\n",
      "p2_conf               2069 non-null float64\n",
      "p2_dog                2069 non-null bool\n",
      "p3                    2069 non-null object\n",
      "p3_conf               2069 non-null float64\n",
      "p3_dog                2069 non-null bool\n",
      "dtypes: bool(3), float64(3), int64(6), object(12)\n",
      "memory usage: 361.7+ KB\n"
     ]
    }
   ],
   "source": [
    "df_tweets.info()"
   ]
  },
  {
   "cell_type": "markdown",
   "metadata": {},
   "source": [
    "---"
   ]
  },
  {
   "cell_type": "markdown",
   "metadata": {},
   "source": [
    "##### Limpeza 05\n",
    "\n",
    "No dataframe **df_twi**, as colunas **doggo**, **floofer**, **pupper** e **puppo**, deveriam ser valores em uma coluna de estágios de cães.\n",
    "#### Definição\n",
    "No novo dataframe **df_tweets**:\n",
    "- Quando os valores da coluna **floofer** forem igual a 'floofer', atribuir 'floofer' ao valor da coluna **doggo**.\n",
    "- Quando os valores da coluna **pupper** forem igual a 'pupper', atribuir 'pupper' ao valor da coluna **doggo**.\n",
    "- Quando os valores da coluna **puppo** forem igual a 'puppo', atribuir 'puppo' ao valor da coluna **doggo**.\n",
    "- Renomear a coluna **doggo** para **dog_stage**.\n",
    "- Descartar as colunas **floofer**, **pupper**, **puppo**.\n"
   ]
  },
  {
   "cell_type": "markdown",
   "metadata": {},
   "source": [
    "##### Codificação"
   ]
  },
  {
   "cell_type": "code",
   "execution_count": 57,
   "metadata": {},
   "outputs": [],
   "source": [
    "# Faz uma cópia do dataframe\n",
    "df_tweets_v1 = df_tweets.copy()\n",
    "\n",
    "for row in df_tweets.iterrows():\n",
    "    dog_stage = ''\n",
    "    if row[1]['doggo'] != 'None':\n",
    "        dog_stage = row[1]['doggo']\n",
    "    if row[1]['floofer'] != 'None':\n",
    "        if dog_stage == '':\n",
    "            dog_stage = row[1]['floofer']\n",
    "        else:\n",
    "            dog_stage = dog_stage + ',' + row[1]['floofer']\n",
    "    if row[1]['pupper'] != 'None':\n",
    "        if dog_stage == '':\n",
    "            dog_stage = row[1]['pupper']\n",
    "        else:\n",
    "            dog_stage = dog_stage + ',' + row[1]['pupper']\n",
    "    if row[1]['puppo'] != 'None':\n",
    "        if dog_stage == '':\n",
    "            dog_stage = row[1]['puppo']\n",
    "        else:\n",
    "            dog_stage = dog_stage + ',' + row[1]['puppo']\n",
    "    df_tweets.loc[df_tweets['tweet_id'] == row[1]['tweet_id'], 'doggo'] = dog_stage"
   ]
  },
  {
   "cell_type": "code",
   "execution_count": 73,
   "metadata": {},
   "outputs": [],
   "source": [
    "# Renomear a coluna doggo para dog_stage.\n",
    "df_tweets = df_tweets.rename(columns={'doggo': 'dog_stage'})"
   ]
  },
  {
   "cell_type": "code",
   "execution_count": 74,
   "metadata": {},
   "outputs": [],
   "source": [
    "# Descartar as colunas floofer, pupper, puppo.\n",
    "df_tweets.drop(['floofer', 'pupper', 'puppo'], axis=1, inplace = True)"
   ]
  },
  {
   "cell_type": "markdown",
   "metadata": {},
   "source": [
    "##### Teste"
   ]
  },
  {
   "cell_type": "code",
   "execution_count": 75,
   "metadata": {
    "scrolled": false
   },
   "outputs": [
    {
     "data": {
      "text/html": [
       "<div>\n",
       "<style scoped>\n",
       "    .dataframe tbody tr th:only-of-type {\n",
       "        vertical-align: middle;\n",
       "    }\n",
       "\n",
       "    .dataframe tbody tr th {\n",
       "        vertical-align: top;\n",
       "    }\n",
       "\n",
       "    .dataframe thead th {\n",
       "        text-align: right;\n",
       "    }\n",
       "</style>\n",
       "<table border=\"1\" class=\"dataframe\">\n",
       "  <thead>\n",
       "    <tr style=\"text-align: right;\">\n",
       "      <th></th>\n",
       "      <th>tweet_id</th>\n",
       "      <th>timestamp</th>\n",
       "      <th>source</th>\n",
       "      <th>text</th>\n",
       "      <th>rating_numerator</th>\n",
       "      <th>rating_denominator</th>\n",
       "      <th>name</th>\n",
       "      <th>dog_stage</th>\n",
       "      <th>favorite_count</th>\n",
       "      <th>retweet_count</th>\n",
       "      <th>...</th>\n",
       "      <th>img_num</th>\n",
       "      <th>p1</th>\n",
       "      <th>p1_conf</th>\n",
       "      <th>p1_dog</th>\n",
       "      <th>p2</th>\n",
       "      <th>p2_conf</th>\n",
       "      <th>p2_dog</th>\n",
       "      <th>p3</th>\n",
       "      <th>p3_conf</th>\n",
       "      <th>p3_dog</th>\n",
       "    </tr>\n",
       "  </thead>\n",
       "  <tbody>\n",
       "    <tr>\n",
       "      <th>1636</th>\n",
       "      <td>674291837063053312</td>\n",
       "      <td>2015-12-08 18:17:56 +0000</td>\n",
       "      <td>&lt;a href=\"http://twitter.com/download/iphone\" r...</td>\n",
       "      <td>This is Kenny. He just wants to be included in...</td>\n",
       "      <td>11</td>\n",
       "      <td>10</td>\n",
       "      <td>Kenny</td>\n",
       "      <td></td>\n",
       "      <td>15464</td>\n",
       "      <td>6332</td>\n",
       "      <td>...</td>\n",
       "      <td>1</td>\n",
       "      <td>Cardigan</td>\n",
       "      <td>0.611525</td>\n",
       "      <td>True</td>\n",
       "      <td>Pembroke</td>\n",
       "      <td>0.368566</td>\n",
       "      <td>True</td>\n",
       "      <td>Chihuahua</td>\n",
       "      <td>0.003330</td>\n",
       "      <td>True</td>\n",
       "    </tr>\n",
       "    <tr>\n",
       "      <th>615</th>\n",
       "      <td>776819012571455488</td>\n",
       "      <td>2016-09-16 16:24:19 +0000</td>\n",
       "      <td>&lt;a href=\"http://twitter.com/download/iphone\" r...</td>\n",
       "      <td>RT @dog_rates: Everybody look at this beautifu...</td>\n",
       "      <td>13</td>\n",
       "      <td>10</td>\n",
       "      <td>None</td>\n",
       "      <td>pupper</td>\n",
       "      <td>0</td>\n",
       "      <td>15401</td>\n",
       "      <td>...</td>\n",
       "      <td>3</td>\n",
       "      <td>Chihuahua</td>\n",
       "      <td>0.346545</td>\n",
       "      <td>True</td>\n",
       "      <td>dalmatian</td>\n",
       "      <td>0.166246</td>\n",
       "      <td>True</td>\n",
       "      <td>toy_terrier</td>\n",
       "      <td>0.117502</td>\n",
       "      <td>True</td>\n",
       "    </tr>\n",
       "    <tr>\n",
       "      <th>1989</th>\n",
       "      <td>667453023279554560</td>\n",
       "      <td>2015-11-19 21:22:56 +0000</td>\n",
       "      <td>&lt;a href=\"http://twitter.com\" rel=\"nofollow\"&gt;Tw...</td>\n",
       "      <td>Meet Cupcake. I would do unspeakable things fo...</td>\n",
       "      <td>11</td>\n",
       "      <td>10</td>\n",
       "      <td>Cupcake</td>\n",
       "      <td></td>\n",
       "      <td>320</td>\n",
       "      <td>93</td>\n",
       "      <td>...</td>\n",
       "      <td>1</td>\n",
       "      <td>Labrador_retriever</td>\n",
       "      <td>0.825670</td>\n",
       "      <td>True</td>\n",
       "      <td>French_bulldog</td>\n",
       "      <td>0.056639</td>\n",
       "      <td>True</td>\n",
       "      <td>Staffordshire_bullterrier</td>\n",
       "      <td>0.054018</td>\n",
       "      <td>True</td>\n",
       "    </tr>\n",
       "    <tr>\n",
       "      <th>311</th>\n",
       "      <td>825535076884762624</td>\n",
       "      <td>2017-01-29 02:44:34 +0000</td>\n",
       "      <td>&lt;a href=\"http://twitter.com/download/iphone\" r...</td>\n",
       "      <td>Here's a very loving and accepting puppo. Appe...</td>\n",
       "      <td>14</td>\n",
       "      <td>10</td>\n",
       "      <td>None</td>\n",
       "      <td>puppo</td>\n",
       "      <td>56264</td>\n",
       "      <td>19221</td>\n",
       "      <td>...</td>\n",
       "      <td>1</td>\n",
       "      <td>Rottweiler</td>\n",
       "      <td>0.681495</td>\n",
       "      <td>True</td>\n",
       "      <td>Tibetan_mastiff</td>\n",
       "      <td>0.147940</td>\n",
       "      <td>True</td>\n",
       "      <td>black-and-tan_coonhound</td>\n",
       "      <td>0.024525</td>\n",
       "      <td>True</td>\n",
       "    </tr>\n",
       "    <tr>\n",
       "      <th>288</th>\n",
       "      <td>828708714936930305</td>\n",
       "      <td>2017-02-06 20:55:28 +0000</td>\n",
       "      <td>&lt;a href=\"http://twitter.com/download/iphone\" r...</td>\n",
       "      <td>This is Fiona. She's an exotic dog. Seems rath...</td>\n",
       "      <td>10</td>\n",
       "      <td>10</td>\n",
       "      <td>Fiona</td>\n",
       "      <td></td>\n",
       "      <td>39484</td>\n",
       "      <td>12501</td>\n",
       "      <td>...</td>\n",
       "      <td>1</td>\n",
       "      <td>hippopotamus</td>\n",
       "      <td>0.942911</td>\n",
       "      <td>False</td>\n",
       "      <td>Mexican_hairless</td>\n",
       "      <td>0.008388</td>\n",
       "      <td>True</td>\n",
       "      <td>ice_lolly</td>\n",
       "      <td>0.006206</td>\n",
       "      <td>False</td>\n",
       "    </tr>\n",
       "  </tbody>\n",
       "</table>\n",
       "<p>5 rows × 21 columns</p>\n",
       "</div>"
      ],
      "text/plain": [
       "                tweet_id                  timestamp  \\\n",
       "1636  674291837063053312  2015-12-08 18:17:56 +0000   \n",
       "615   776819012571455488  2016-09-16 16:24:19 +0000   \n",
       "1989  667453023279554560  2015-11-19 21:22:56 +0000   \n",
       "311   825535076884762624  2017-01-29 02:44:34 +0000   \n",
       "288   828708714936930305  2017-02-06 20:55:28 +0000   \n",
       "\n",
       "                                                 source  \\\n",
       "1636  <a href=\"http://twitter.com/download/iphone\" r...   \n",
       "615   <a href=\"http://twitter.com/download/iphone\" r...   \n",
       "1989  <a href=\"http://twitter.com\" rel=\"nofollow\">Tw...   \n",
       "311   <a href=\"http://twitter.com/download/iphone\" r...   \n",
       "288   <a href=\"http://twitter.com/download/iphone\" r...   \n",
       "\n",
       "                                                   text  rating_numerator  \\\n",
       "1636  This is Kenny. He just wants to be included in...                11   \n",
       "615   RT @dog_rates: Everybody look at this beautifu...                13   \n",
       "1989  Meet Cupcake. I would do unspeakable things fo...                11   \n",
       "311   Here's a very loving and accepting puppo. Appe...                14   \n",
       "288   This is Fiona. She's an exotic dog. Seems rath...                10   \n",
       "\n",
       "      rating_denominator     name dog_stage  favorite_count  retweet_count  \\\n",
       "1636                  10    Kenny                     15464           6332   \n",
       "615                   10     None    pupper               0          15401   \n",
       "1989                  10  Cupcake                       320             93   \n",
       "311                   10     None     puppo           56264          19221   \n",
       "288                   10    Fiona                     39484          12501   \n",
       "\n",
       "       ...   img_num                  p1   p1_conf  p1_dog                p2  \\\n",
       "1636   ...         1            Cardigan  0.611525    True          Pembroke   \n",
       "615    ...         3           Chihuahua  0.346545    True         dalmatian   \n",
       "1989   ...         1  Labrador_retriever  0.825670    True    French_bulldog   \n",
       "311    ...         1          Rottweiler  0.681495    True   Tibetan_mastiff   \n",
       "288    ...         1        hippopotamus  0.942911   False  Mexican_hairless   \n",
       "\n",
       "       p2_conf  p2_dog                         p3   p3_conf  p3_dog  \n",
       "1636  0.368566    True                  Chihuahua  0.003330    True  \n",
       "615   0.166246    True                toy_terrier  0.117502    True  \n",
       "1989  0.056639    True  Staffordshire_bullterrier  0.054018    True  \n",
       "311   0.147940    True    black-and-tan_coonhound  0.024525    True  \n",
       "288   0.008388    True                  ice_lolly  0.006206   False  \n",
       "\n",
       "[5 rows x 21 columns]"
      ]
     },
     "execution_count": 75,
     "metadata": {},
     "output_type": "execute_result"
    }
   ],
   "source": [
    "df_tweets.sample(5)"
   ]
  },
  {
   "cell_type": "code",
   "execution_count": 76,
   "metadata": {
    "scrolled": true
   },
   "outputs": [
    {
     "data": {
      "text/plain": [
       "                 1748\n",
       "pupper            211\n",
       "doggo              67\n",
       "puppo              23\n",
       "doggo,pupper       11\n",
       "floofer             7\n",
       "doggo,floofer       1\n",
       "doggo,puppo         1\n",
       "Name: dog_stage, dtype: int64"
      ]
     },
     "execution_count": 76,
     "metadata": {},
     "output_type": "execute_result"
    }
   ],
   "source": [
    "df_tweets.dog_stage.value_counts()"
   ]
  },
  {
   "cell_type": "markdown",
   "metadata": {},
   "source": [
    "---"
   ]
  },
  {
   "cell_type": "markdown",
   "metadata": {},
   "source": [
    "##### Limpeza 06\n",
    "\n",
    "No dataframe **df_twi**, a coluna **name**, embora não hajam valores 'NaN', há valores com a string 'None' e valores que não parecem nomes como: 'a', 'actually' e 'just'. Nomes e o valor 'None' começam por letras maiúsculas, os valores que não são nomes nem 'None' estão com letras minúsculas.\n",
    "#### Definição\n",
    "No novo dataframe **df_tweets**:\n",
    "- Na coluna **name**, do novo dataframe **df_tweets**, mudar as palavras que não são nomes (em minúsculas) para 'None'.\n"
   ]
  },
  {
   "cell_type": "markdown",
   "metadata": {},
   "source": [
    "##### Codificação"
   ]
  },
  {
   "cell_type": "code",
   "execution_count": 77,
   "metadata": {},
   "outputs": [],
   "source": [
    "# Faz uma cópia do dataframe\n",
    "df_tweets_v2 = df_tweets.copy()\n",
    "\n",
    "# Muda na coluna 'name' as strings minúsculas para 'None'\n",
    "for t in df_tweets['name']:\n",
    "    if t.islower():\n",
    "        df_tweets.loc[df_tweets['name'] == t, 'name'] = 'None'"
   ]
  },
  {
   "cell_type": "markdown",
   "metadata": {},
   "source": [
    "##### Teste"
   ]
  },
  {
   "cell_type": "code",
   "execution_count": 78,
   "metadata": {},
   "outputs": [],
   "source": [
    "for t in df_tweets['name']:\n",
    "    if t.islower():\n",
    "        print(t)"
   ]
  },
  {
   "cell_type": "markdown",
   "metadata": {},
   "source": [
    "---"
   ]
  },
  {
   "cell_type": "markdown",
   "metadata": {},
   "source": [
    "##### Limpeza 07\n",
    "\n",
    "De acordo com valores de classificação dos cães percebidos na coluna **texto**, a coluna **rating_numerator** pode necessitar armazenar valores do tipo **float**.\n",
    "#### Definição\n",
    "No novo dataframe **df_tweets**:\n",
    "- Mudar o tipo de dados da coluna para **float**."
   ]
  },
  {
   "cell_type": "markdown",
   "metadata": {},
   "source": [
    "##### Codificação"
   ]
  },
  {
   "cell_type": "code",
   "execution_count": 79,
   "metadata": {},
   "outputs": [],
   "source": [
    "# Faz uma cópia do dataframe\n",
    "df_tweets_v3 = df_tweets.copy()\n",
    "\n",
    "# Modifica o tipo de dado para float.\n",
    "df_tweets['rating_numerator'] = df_tweets['rating_numerator'].astype(float)"
   ]
  },
  {
   "cell_type": "markdown",
   "metadata": {},
   "source": [
    "##### Teste"
   ]
  },
  {
   "cell_type": "code",
   "execution_count": 80,
   "metadata": {
    "scrolled": true
   },
   "outputs": [
    {
     "name": "stdout",
     "output_type": "stream",
     "text": [
      "<class 'pandas.core.frame.DataFrame'>\n",
      "Int64Index: 2069 entries, 0 to 2068\n",
      "Data columns (total 21 columns):\n",
      "tweet_id              2069 non-null int64\n",
      "timestamp             2069 non-null object\n",
      "source                2069 non-null object\n",
      "text                  2069 non-null object\n",
      "rating_numerator      2069 non-null float64\n",
      "rating_denominator    2069 non-null int64\n",
      "name                  2069 non-null object\n",
      "dog_stage             2069 non-null object\n",
      "favorite_count        2069 non-null int64\n",
      "retweet_count         2069 non-null int64\n",
      "jpg_url               2069 non-null object\n",
      "img_num               2069 non-null int64\n",
      "p1                    2069 non-null object\n",
      "p1_conf               2069 non-null float64\n",
      "p1_dog                2069 non-null bool\n",
      "p2                    2069 non-null object\n",
      "p2_conf               2069 non-null float64\n",
      "p2_dog                2069 non-null bool\n",
      "p3                    2069 non-null object\n",
      "p3_conf               2069 non-null float64\n",
      "p3_dog                2069 non-null bool\n",
      "dtypes: bool(3), float64(4), int64(5), object(9)\n",
      "memory usage: 313.2+ KB\n"
     ]
    }
   ],
   "source": [
    "df_tweets.info()"
   ]
  },
  {
   "cell_type": "markdown",
   "metadata": {},
   "source": [
    "---"
   ]
  },
  {
   "cell_type": "markdown",
   "metadata": {},
   "source": [
    "##### Limpeza 08\n",
    "\n",
    "No dataframe **df_twi**, a coluna **rating_denominator** há valores diferentes de 10. Aparentemente a extração da classificação do cão feita sobre o campo texto, buscava trechos de strings que tivessem o caractér '/' e acabou pegando uma string com '/' que não era uma classificação. Provavelmente o valor em **rating_numerator** também está errado.\n",
    "#### Definição\n",
    "No novo dataframe **df_tweets**:\n",
    "- Rafazer a busca das classificações e armazenar os valores nas coluna **rating_numerator** e **rating_denominator**, verificando o conteúdo na coluna **text**. Caso haja em **text** substring com padrão 'nn/10', onde 'nn' é um número de 0 a 99, salvar os valores antes e depois do caractér '/' nas colunas **rating_numerator** e **rating_denominator**, respectivamente."
   ]
  },
  {
   "cell_type": "markdown",
   "metadata": {},
   "source": [
    "##### Codificação"
   ]
  },
  {
   "cell_type": "code",
   "execution_count": 81,
   "metadata": {
    "scrolled": true
   },
   "outputs": [],
   "source": [
    "# Faz uma cópia do dataframe\n",
    "df_tweets_v4 = df_tweets.copy()\n",
    "\n",
    "# Busca classificações na coluna 'texto' e armazena nas colunas 'rating_numerator' e 'rating_denominator'.\n",
    "valid_char = '0123456789'\n",
    "for rt in df_tweets['text']:\n",
    "    if '/10' in rt:\n",
    "        pos = rt.find('/10')\n",
    "        value = ''\n",
    "        for i in range(pos-5, pos):\n",
    "            char = rt[i]\n",
    "            if (i == pos - 5) and (char in valid_char) and (rt[pos - 4] in valid_char):\n",
    "                value = value + char\n",
    "            elif (i == pos - 4) and (char in valid_char):\n",
    "                value = value + char\n",
    "            elif (i == pos - 3) and (char in valid_char or (char == '.' and rt[pos - 4] in valid_char)) and (rt[pos - 2] in valid_char or rt[pos - 2] == '.'):\n",
    "                value = value + char\n",
    "            elif (i >= pos - 2) and (char in valid_char or char == '.'):\n",
    "                value = value + char\n",
    "        if value[0] == '.':\n",
    "            value = value[1:len(value)]\n",
    "        \n",
    "        # Armazena os valores nas colunas\n",
    "        df_tweets.loc[df_tweets['text'] == rt, 'rating_numerator'] = float(value)\n",
    "        df_tweets.loc[df_tweets['text'] == rt, 'rating_denominator'] = 10"
   ]
  },
  {
   "cell_type": "markdown",
   "metadata": {},
   "source": [
    "##### Teste"
   ]
  },
  {
   "cell_type": "code",
   "execution_count": 82,
   "metadata": {
    "scrolled": true
   },
   "outputs": [
    {
     "data": {
      "text/html": [
       "<div>\n",
       "<style scoped>\n",
       "    .dataframe tbody tr th:only-of-type {\n",
       "        vertical-align: middle;\n",
       "    }\n",
       "\n",
       "    .dataframe tbody tr th {\n",
       "        vertical-align: top;\n",
       "    }\n",
       "\n",
       "    .dataframe thead th {\n",
       "        text-align: right;\n",
       "    }\n",
       "</style>\n",
       "<table border=\"1\" class=\"dataframe\">\n",
       "  <thead>\n",
       "    <tr style=\"text-align: right;\">\n",
       "      <th></th>\n",
       "      <th>tweet_id</th>\n",
       "      <th>timestamp</th>\n",
       "      <th>source</th>\n",
       "      <th>text</th>\n",
       "      <th>rating_numerator</th>\n",
       "      <th>rating_denominator</th>\n",
       "      <th>name</th>\n",
       "      <th>dog_stage</th>\n",
       "      <th>favorite_count</th>\n",
       "      <th>retweet_count</th>\n",
       "      <th>...</th>\n",
       "      <th>img_num</th>\n",
       "      <th>p1</th>\n",
       "      <th>p1_conf</th>\n",
       "      <th>p1_dog</th>\n",
       "      <th>p2</th>\n",
       "      <th>p2_conf</th>\n",
       "      <th>p2_dog</th>\n",
       "      <th>p3</th>\n",
       "      <th>p3_conf</th>\n",
       "      <th>p3_dog</th>\n",
       "    </tr>\n",
       "  </thead>\n",
       "  <tbody>\n",
       "    <tr>\n",
       "      <th>282</th>\n",
       "      <td>829501995190984704</td>\n",
       "      <td>2017-02-09 01:27:41 +0000</td>\n",
       "      <td>&lt;a href=\"http://twitter.com/download/iphone\" r...</td>\n",
       "      <td>This is Leo. He was a skater pup. She said see...</td>\n",
       "      <td>12.0</td>\n",
       "      <td>10</td>\n",
       "      <td>Leo</td>\n",
       "      <td></td>\n",
       "      <td>34203</td>\n",
       "      <td>11808</td>\n",
       "      <td>...</td>\n",
       "      <td>1</td>\n",
       "      <td>French_bulldog</td>\n",
       "      <td>0.950851</td>\n",
       "      <td>True</td>\n",
       "      <td>Pekinese</td>\n",
       "      <td>0.015200</td>\n",
       "      <td>True</td>\n",
       "      <td>pug</td>\n",
       "      <td>0.011094</td>\n",
       "      <td>True</td>\n",
       "    </tr>\n",
       "    <tr>\n",
       "      <th>70</th>\n",
       "      <td>877201837425926144</td>\n",
       "      <td>2017-06-20 16:29:50 +0000</td>\n",
       "      <td>&lt;a href=\"http://twitter.com/download/iphone\" r...</td>\n",
       "      <td>This is Nelly. He graduated with his dogtorate...</td>\n",
       "      <td>12.0</td>\n",
       "      <td>10</td>\n",
       "      <td>Nelly</td>\n",
       "      <td></td>\n",
       "      <td>27212</td>\n",
       "      <td>5680</td>\n",
       "      <td>...</td>\n",
       "      <td>1</td>\n",
       "      <td>Pembroke</td>\n",
       "      <td>0.931120</td>\n",
       "      <td>True</td>\n",
       "      <td>Cardigan</td>\n",
       "      <td>0.068698</td>\n",
       "      <td>True</td>\n",
       "      <td>basenji</td>\n",
       "      <td>0.000082</td>\n",
       "      <td>True</td>\n",
       "    </tr>\n",
       "    <tr>\n",
       "      <th>1062</th>\n",
       "      <td>709158332880297985</td>\n",
       "      <td>2016-03-13 23:24:56 +0000</td>\n",
       "      <td>&lt;a href=\"http://twitter.com/download/iphone\" r...</td>\n",
       "      <td>Meet Rodney. He's a Ukranian Boomchicka. Outsi...</td>\n",
       "      <td>10.0</td>\n",
       "      <td>10</td>\n",
       "      <td>Rodney</td>\n",
       "      <td></td>\n",
       "      <td>2188</td>\n",
       "      <td>454</td>\n",
       "      <td>...</td>\n",
       "      <td>1</td>\n",
       "      <td>Siberian_husky</td>\n",
       "      <td>0.212957</td>\n",
       "      <td>True</td>\n",
       "      <td>Eskimo_dog</td>\n",
       "      <td>0.178887</td>\n",
       "      <td>True</td>\n",
       "      <td>Labrador_retriever</td>\n",
       "      <td>0.174218</td>\n",
       "      <td>True</td>\n",
       "    </tr>\n",
       "    <tr>\n",
       "      <th>732</th>\n",
       "      <td>758355060040593408</td>\n",
       "      <td>2016-07-27 17:35:10 +0000</td>\n",
       "      <td>&lt;a href=\"http://twitter.com/download/iphone\" r...</td>\n",
       "      <td>This is Corey. He's a Portobello Corgicool. Tr...</td>\n",
       "      <td>11.0</td>\n",
       "      <td>10</td>\n",
       "      <td>Corey</td>\n",
       "      <td></td>\n",
       "      <td>3719</td>\n",
       "      <td>1206</td>\n",
       "      <td>...</td>\n",
       "      <td>1</td>\n",
       "      <td>Pembroke</td>\n",
       "      <td>0.987643</td>\n",
       "      <td>True</td>\n",
       "      <td>Cardigan</td>\n",
       "      <td>0.012112</td>\n",
       "      <td>True</td>\n",
       "      <td>Siamese_cat</td>\n",
       "      <td>0.000117</td>\n",
       "      <td>False</td>\n",
       "    </tr>\n",
       "    <tr>\n",
       "      <th>1514</th>\n",
       "      <td>677644091929329666</td>\n",
       "      <td>2015-12-18 00:18:36 +0000</td>\n",
       "      <td>&lt;a href=\"http://twitter.com/download/iphone\" r...</td>\n",
       "      <td>This is a dog swinging. I really enjoyed it so...</td>\n",
       "      <td>11.0</td>\n",
       "      <td>10</td>\n",
       "      <td>None</td>\n",
       "      <td></td>\n",
       "      <td>1995</td>\n",
       "      <td>870</td>\n",
       "      <td>...</td>\n",
       "      <td>1</td>\n",
       "      <td>Chihuahua</td>\n",
       "      <td>0.626236</td>\n",
       "      <td>True</td>\n",
       "      <td>Italian_greyhound</td>\n",
       "      <td>0.128483</td>\n",
       "      <td>True</td>\n",
       "      <td>swing</td>\n",
       "      <td>0.059840</td>\n",
       "      <td>False</td>\n",
       "    </tr>\n",
       "  </tbody>\n",
       "</table>\n",
       "<p>5 rows × 21 columns</p>\n",
       "</div>"
      ],
      "text/plain": [
       "                tweet_id                  timestamp  \\\n",
       "282   829501995190984704  2017-02-09 01:27:41 +0000   \n",
       "70    877201837425926144  2017-06-20 16:29:50 +0000   \n",
       "1062  709158332880297985  2016-03-13 23:24:56 +0000   \n",
       "732   758355060040593408  2016-07-27 17:35:10 +0000   \n",
       "1514  677644091929329666  2015-12-18 00:18:36 +0000   \n",
       "\n",
       "                                                 source  \\\n",
       "282   <a href=\"http://twitter.com/download/iphone\" r...   \n",
       "70    <a href=\"http://twitter.com/download/iphone\" r...   \n",
       "1062  <a href=\"http://twitter.com/download/iphone\" r...   \n",
       "732   <a href=\"http://twitter.com/download/iphone\" r...   \n",
       "1514  <a href=\"http://twitter.com/download/iphone\" r...   \n",
       "\n",
       "                                                   text  rating_numerator  \\\n",
       "282   This is Leo. He was a skater pup. She said see...              12.0   \n",
       "70    This is Nelly. He graduated with his dogtorate...              12.0   \n",
       "1062  Meet Rodney. He's a Ukranian Boomchicka. Outsi...              10.0   \n",
       "732   This is Corey. He's a Portobello Corgicool. Tr...              11.0   \n",
       "1514  This is a dog swinging. I really enjoyed it so...              11.0   \n",
       "\n",
       "      rating_denominator    name dog_stage  favorite_count  retweet_count  \\\n",
       "282                   10     Leo                     34203          11808   \n",
       "70                    10   Nelly                     27212           5680   \n",
       "1062                  10  Rodney                      2188            454   \n",
       "732                   10   Corey                      3719           1206   \n",
       "1514                  10    None                      1995            870   \n",
       "\n",
       "       ...   img_num              p1   p1_conf  p1_dog                 p2  \\\n",
       "282    ...         1  French_bulldog  0.950851    True           Pekinese   \n",
       "70     ...         1        Pembroke  0.931120    True           Cardigan   \n",
       "1062   ...         1  Siberian_husky  0.212957    True         Eskimo_dog   \n",
       "732    ...         1        Pembroke  0.987643    True           Cardigan   \n",
       "1514   ...         1       Chihuahua  0.626236    True  Italian_greyhound   \n",
       "\n",
       "       p2_conf  p2_dog                  p3   p3_conf  p3_dog  \n",
       "282   0.015200    True                 pug  0.011094    True  \n",
       "70    0.068698    True             basenji  0.000082    True  \n",
       "1062  0.178887    True  Labrador_retriever  0.174218    True  \n",
       "732   0.012112    True         Siamese_cat  0.000117   False  \n",
       "1514  0.128483    True               swing  0.059840   False  \n",
       "\n",
       "[5 rows x 21 columns]"
      ]
     },
     "execution_count": 82,
     "metadata": {},
     "output_type": "execute_result"
    }
   ],
   "source": [
    "df_tweets.sample(5)"
   ]
  },
  {
   "cell_type": "markdown",
   "metadata": {},
   "source": [
    "----"
   ]
  },
  {
   "cell_type": "markdown",
   "metadata": {},
   "source": [
    "##### Limpeza 09\n",
    "\n",
    "Na dataframe **df_twi**, na coluna **text**, é possível ver vários textos com 'RT' no início que são retweets, ou seja, informação repetida.\n",
    "\n",
    "#### Definição\n",
    "No novo dataframe **df_tweets**:\n",
    "- Remover as linhas onde os valores da coluna **text** iniciem com as string 'RT'.\n"
   ]
  },
  {
   "cell_type": "markdown",
   "metadata": {},
   "source": [
    "##### Codificação"
   ]
  },
  {
   "cell_type": "code",
   "execution_count": 83,
   "metadata": {},
   "outputs": [],
   "source": [
    "# Faz uma cópia do dataframe\n",
    "df_tweets_v5 = df_tweets.copy()\n",
    "\n",
    "# Remove as linhas em que a string na coluna 'text' começam com RT\n",
    "for t in df_tweets.text:\n",
    "    if t[0:2] == 'RT':\n",
    "        df_tweets = df_tweets.drop(df_tweets[df_tweets.text == t].index)"
   ]
  },
  {
   "cell_type": "markdown",
   "metadata": {},
   "source": [
    "##### Teste"
   ]
  },
  {
   "cell_type": "code",
   "execution_count": 84,
   "metadata": {},
   "outputs": [],
   "source": [
    "for r in df_tweets.text:\n",
    "    if r[0:2] == 'RT':\n",
    "        print(r)"
   ]
  },
  {
   "cell_type": "markdown",
   "metadata": {},
   "source": [
    "---"
   ]
  },
  {
   "cell_type": "markdown",
   "metadata": {},
   "source": [
    "##### Limpeza 10\n",
    "\n",
    "Dataframe de predições de raça por imagem **df_ima_pre**, os nomes das raças estão despadronizados, alguns em maiúsculas, outros em minúsculas e com as palavras separadas por 'underline' ao invés de espaço.\n",
    "#### Definição\n",
    "No novo dataframe **df_tweets**:\n",
    "- Remover os 'underlines' e mudar a primeira letra das palavras para maiúscula.\n"
   ]
  },
  {
   "cell_type": "markdown",
   "metadata": {},
   "source": [
    "##### Codificação"
   ]
  },
  {
   "cell_type": "code",
   "execution_count": 85,
   "metadata": {},
   "outputs": [],
   "source": [
    "# Faz uma cópia do dataframe\n",
    "df_tweets_v6 = df_tweets.copy()\n",
    "\n",
    "# Troca 'undeline' por espaço na coluna P1\n",
    "for t in df_tweets['p1']:\n",
    "    df_tweets.loc[df_tweets['p1'] == t, 'p1'] = t.replace(\"_\", \" \").title()"
   ]
  },
  {
   "cell_type": "code",
   "execution_count": 86,
   "metadata": {},
   "outputs": [],
   "source": [
    "# Troca 'undeline' por espaço na coluna P2\n",
    "for t in df_tweets['p2']:\n",
    "    df_tweets.loc[df_tweets['p2'] == t, 'p2'] = t.replace(\"_\", \" \").title()"
   ]
  },
  {
   "cell_type": "code",
   "execution_count": 87,
   "metadata": {},
   "outputs": [],
   "source": [
    "# Troca 'undeline' por espaço na coluna P3\n",
    "for t in df_tweets['p3']:\n",
    "    df_tweets.loc[df_tweets['p3'] == t, 'p3'] = t.replace(\"_\", \" \").title()"
   ]
  },
  {
   "cell_type": "markdown",
   "metadata": {},
   "source": [
    "##### Teste"
   ]
  },
  {
   "cell_type": "code",
   "execution_count": 88,
   "metadata": {
    "scrolled": false
   },
   "outputs": [
    {
     "data": {
      "text/html": [
       "<div>\n",
       "<style scoped>\n",
       "    .dataframe tbody tr th:only-of-type {\n",
       "        vertical-align: middle;\n",
       "    }\n",
       "\n",
       "    .dataframe tbody tr th {\n",
       "        vertical-align: top;\n",
       "    }\n",
       "\n",
       "    .dataframe thead th {\n",
       "        text-align: right;\n",
       "    }\n",
       "</style>\n",
       "<table border=\"1\" class=\"dataframe\">\n",
       "  <thead>\n",
       "    <tr style=\"text-align: right;\">\n",
       "      <th></th>\n",
       "      <th>tweet_id</th>\n",
       "      <th>timestamp</th>\n",
       "      <th>source</th>\n",
       "      <th>text</th>\n",
       "      <th>rating_numerator</th>\n",
       "      <th>rating_denominator</th>\n",
       "      <th>name</th>\n",
       "      <th>dog_stage</th>\n",
       "      <th>favorite_count</th>\n",
       "      <th>retweet_count</th>\n",
       "      <th>...</th>\n",
       "      <th>img_num</th>\n",
       "      <th>p1</th>\n",
       "      <th>p1_conf</th>\n",
       "      <th>p1_dog</th>\n",
       "      <th>p2</th>\n",
       "      <th>p2_conf</th>\n",
       "      <th>p2_dog</th>\n",
       "      <th>p3</th>\n",
       "      <th>p3_conf</th>\n",
       "      <th>p3_dog</th>\n",
       "    </tr>\n",
       "  </thead>\n",
       "  <tbody>\n",
       "    <tr>\n",
       "      <th>1391</th>\n",
       "      <td>683481228088049664</td>\n",
       "      <td>2016-01-03 02:53:17 +0000</td>\n",
       "      <td>&lt;a href=\"http://twitter.com/download/iphone\" r...</td>\n",
       "      <td>Meet Banjo. He's a Peppercorn Shoop Da Whoop. ...</td>\n",
       "      <td>11.0</td>\n",
       "      <td>10</td>\n",
       "      <td>Banjo</td>\n",
       "      <td>pupper</td>\n",
       "      <td>2820</td>\n",
       "      <td>1088</td>\n",
       "      <td>...</td>\n",
       "      <td>1</td>\n",
       "      <td>Keeshond</td>\n",
       "      <td>0.508951</td>\n",
       "      <td>True</td>\n",
       "      <td>Chow</td>\n",
       "      <td>0.442016</td>\n",
       "      <td>True</td>\n",
       "      <td>German Shepherd</td>\n",
       "      <td>0.013206</td>\n",
       "      <td>True</td>\n",
       "    </tr>\n",
       "    <tr>\n",
       "      <th>1774</th>\n",
       "      <td>671355857343524864</td>\n",
       "      <td>2015-11-30 15:51:24 +0000</td>\n",
       "      <td>&lt;a href=\"http://twitter.com/download/iphone\" r...</td>\n",
       "      <td>This is Lou. He's a Petrarch Sunni Pinto. Well...</td>\n",
       "      <td>10.0</td>\n",
       "      <td>10</td>\n",
       "      <td>Lou</td>\n",
       "      <td></td>\n",
       "      <td>496</td>\n",
       "      <td>118</td>\n",
       "      <td>...</td>\n",
       "      <td>1</td>\n",
       "      <td>Miniature Poodle</td>\n",
       "      <td>0.313811</td>\n",
       "      <td>True</td>\n",
       "      <td>Toy Poodle</td>\n",
       "      <td>0.165585</td>\n",
       "      <td>True</td>\n",
       "      <td>Irish Terrier</td>\n",
       "      <td>0.056094</td>\n",
       "      <td>True</td>\n",
       "    </tr>\n",
       "    <tr>\n",
       "      <th>213</th>\n",
       "      <td>841680585030541313</td>\n",
       "      <td>2017-03-14 16:01:03 +0000</td>\n",
       "      <td>&lt;a href=\"http://twitter.com/download/iphone\" r...</td>\n",
       "      <td>This is Penny. She's a dragon slayer. Feared b...</td>\n",
       "      <td>12.0</td>\n",
       "      <td>10</td>\n",
       "      <td>Penny</td>\n",
       "      <td></td>\n",
       "      <td>27305</td>\n",
       "      <td>8495</td>\n",
       "      <td>...</td>\n",
       "      <td>1</td>\n",
       "      <td>Chihuahua</td>\n",
       "      <td>0.547401</td>\n",
       "      <td>True</td>\n",
       "      <td>Bow Tie</td>\n",
       "      <td>0.198361</td>\n",
       "      <td>False</td>\n",
       "      <td>Pembroke</td>\n",
       "      <td>0.058493</td>\n",
       "      <td>True</td>\n",
       "    </tr>\n",
       "    <tr>\n",
       "      <th>1340</th>\n",
       "      <td>686386521809772549</td>\n",
       "      <td>2016-01-11 03:17:53 +0000</td>\n",
       "      <td>&lt;a href=\"http://twitter.com/download/iphone\" r...</td>\n",
       "      <td>Say hello to Crimson. He's a Speckled Winnebag...</td>\n",
       "      <td>11.0</td>\n",
       "      <td>10</td>\n",
       "      <td>Crimson</td>\n",
       "      <td></td>\n",
       "      <td>3483</td>\n",
       "      <td>975</td>\n",
       "      <td>...</td>\n",
       "      <td>1</td>\n",
       "      <td>Yorkshire Terrier</td>\n",
       "      <td>0.477704</td>\n",
       "      <td>True</td>\n",
       "      <td>Silky Terrier</td>\n",
       "      <td>0.171673</td>\n",
       "      <td>True</td>\n",
       "      <td>Australian Terrier</td>\n",
       "      <td>0.088334</td>\n",
       "      <td>True</td>\n",
       "    </tr>\n",
       "    <tr>\n",
       "      <th>30</th>\n",
       "      <td>885984800019947520</td>\n",
       "      <td>2017-07-14 22:10:11 +0000</td>\n",
       "      <td>&lt;a href=\"http://twitter.com/download/iphone\" r...</td>\n",
       "      <td>Viewer discretion advised. This is Jimbo. He w...</td>\n",
       "      <td>12.0</td>\n",
       "      <td>10</td>\n",
       "      <td>Jimbo</td>\n",
       "      <td></td>\n",
       "      <td>32771</td>\n",
       "      <td>6873</td>\n",
       "      <td>...</td>\n",
       "      <td>1</td>\n",
       "      <td>Blenheim Spaniel</td>\n",
       "      <td>0.972494</td>\n",
       "      <td>True</td>\n",
       "      <td>Shih-Tzu</td>\n",
       "      <td>0.006630</td>\n",
       "      <td>True</td>\n",
       "      <td>Bernese Mountain Dog</td>\n",
       "      <td>0.006239</td>\n",
       "      <td>True</td>\n",
       "    </tr>\n",
       "  </tbody>\n",
       "</table>\n",
       "<p>5 rows × 21 columns</p>\n",
       "</div>"
      ],
      "text/plain": [
       "                tweet_id                  timestamp  \\\n",
       "1391  683481228088049664  2016-01-03 02:53:17 +0000   \n",
       "1774  671355857343524864  2015-11-30 15:51:24 +0000   \n",
       "213   841680585030541313  2017-03-14 16:01:03 +0000   \n",
       "1340  686386521809772549  2016-01-11 03:17:53 +0000   \n",
       "30    885984800019947520  2017-07-14 22:10:11 +0000   \n",
       "\n",
       "                                                 source  \\\n",
       "1391  <a href=\"http://twitter.com/download/iphone\" r...   \n",
       "1774  <a href=\"http://twitter.com/download/iphone\" r...   \n",
       "213   <a href=\"http://twitter.com/download/iphone\" r...   \n",
       "1340  <a href=\"http://twitter.com/download/iphone\" r...   \n",
       "30    <a href=\"http://twitter.com/download/iphone\" r...   \n",
       "\n",
       "                                                   text  rating_numerator  \\\n",
       "1391  Meet Banjo. He's a Peppercorn Shoop Da Whoop. ...              11.0   \n",
       "1774  This is Lou. He's a Petrarch Sunni Pinto. Well...              10.0   \n",
       "213   This is Penny. She's a dragon slayer. Feared b...              12.0   \n",
       "1340  Say hello to Crimson. He's a Speckled Winnebag...              11.0   \n",
       "30    Viewer discretion advised. This is Jimbo. He w...              12.0   \n",
       "\n",
       "      rating_denominator     name dog_stage  favorite_count  retweet_count  \\\n",
       "1391                  10    Banjo    pupper            2820           1088   \n",
       "1774                  10      Lou                       496            118   \n",
       "213                   10    Penny                     27305           8495   \n",
       "1340                  10  Crimson                      3483            975   \n",
       "30                    10    Jimbo                     32771           6873   \n",
       "\n",
       "       ...   img_num                 p1   p1_conf  p1_dog             p2  \\\n",
       "1391   ...         1           Keeshond  0.508951    True           Chow   \n",
       "1774   ...         1   Miniature Poodle  0.313811    True     Toy Poodle   \n",
       "213    ...         1          Chihuahua  0.547401    True        Bow Tie   \n",
       "1340   ...         1  Yorkshire Terrier  0.477704    True  Silky Terrier   \n",
       "30     ...         1   Blenheim Spaniel  0.972494    True       Shih-Tzu   \n",
       "\n",
       "       p2_conf  p2_dog                    p3   p3_conf  p3_dog  \n",
       "1391  0.442016    True       German Shepherd  0.013206    True  \n",
       "1774  0.165585    True         Irish Terrier  0.056094    True  \n",
       "213   0.198361   False              Pembroke  0.058493    True  \n",
       "1340  0.171673    True    Australian Terrier  0.088334    True  \n",
       "30    0.006630    True  Bernese Mountain Dog  0.006239    True  \n",
       "\n",
       "[5 rows x 21 columns]"
      ]
     },
     "execution_count": 88,
     "metadata": {},
     "output_type": "execute_result"
    }
   ],
   "source": [
    "df_tweets.sample(5)"
   ]
  },
  {
   "cell_type": "markdown",
   "metadata": {},
   "source": [
    "---"
   ]
  },
  {
   "cell_type": "markdown",
   "metadata": {},
   "source": [
    "##### Limpeza 11\n",
    "\n",
    "No dataframe **df_ima_pre** colunas **p1**, **p1_conf**, **p1_dog**, **p2**, **p2_conf**, **p2_dog**, **p3**, **p3_conf** e **p3_dog** poderiam ter nomes mais descritivos.\n",
    "#### Definição\n",
    "No novo dataframe **df_tweets**, renomear as colunas:  \n",
    "- p1 para 'prediction_01, p1_conf para reliability_percent_01, p1_dog para is_a_dog_01\n",
    "- p2 para 'prediction_02, p2_conf para reliability_percent_02, p2_dog para is_a_dog_02\n",
    "- p3 para 'prediction_03, p3_conf para reliability_percent_03, p3_dog para is_a_dog_03\n"
   ]
  },
  {
   "cell_type": "markdown",
   "metadata": {},
   "source": [
    "##### Codificação"
   ]
  },
  {
   "cell_type": "code",
   "execution_count": 89,
   "metadata": {},
   "outputs": [],
   "source": [
    "# Faz uma cópia do dataframe\n",
    "df_tweets_v7 = df_tweets.copy()\n",
    "\n",
    "# Renomear as colunas referentes a previsão 1.\n",
    "df_tweets = df_tweets.rename(columns={'p1': 'breed_prediction_01', 'p1_conf': 'reliability_01', 'p1_dog': 'is_a_dog_01'})\n",
    "\n",
    "# Renomear as colunas referentes a previsão 1.\n",
    "df_tweets = df_tweets.rename(columns={'p2': 'breed_prediction_02', 'p2_conf': 'reliability_02', 'p2_dog': 'is_a_dog_02'})\n",
    "\n",
    "# Renomear as colunas referentes a previsão 1.\n",
    "df_tweets = df_tweets.rename(columns={'p3': 'breed_prediction_03', 'p3_conf': 'reliability_03', 'p3_dog': 'is_a_dog_03'})"
   ]
  },
  {
   "cell_type": "markdown",
   "metadata": {},
   "source": [
    "##### Teste"
   ]
  },
  {
   "cell_type": "code",
   "execution_count": 90,
   "metadata": {
    "scrolled": false
   },
   "outputs": [
    {
     "data": {
      "text/html": [
       "<div>\n",
       "<style scoped>\n",
       "    .dataframe tbody tr th:only-of-type {\n",
       "        vertical-align: middle;\n",
       "    }\n",
       "\n",
       "    .dataframe tbody tr th {\n",
       "        vertical-align: top;\n",
       "    }\n",
       "\n",
       "    .dataframe thead th {\n",
       "        text-align: right;\n",
       "    }\n",
       "</style>\n",
       "<table border=\"1\" class=\"dataframe\">\n",
       "  <thead>\n",
       "    <tr style=\"text-align: right;\">\n",
       "      <th></th>\n",
       "      <th>tweet_id</th>\n",
       "      <th>timestamp</th>\n",
       "      <th>source</th>\n",
       "      <th>text</th>\n",
       "      <th>rating_numerator</th>\n",
       "      <th>rating_denominator</th>\n",
       "      <th>name</th>\n",
       "      <th>dog_stage</th>\n",
       "      <th>favorite_count</th>\n",
       "      <th>retweet_count</th>\n",
       "      <th>...</th>\n",
       "      <th>img_num</th>\n",
       "      <th>breed_prediction_01</th>\n",
       "      <th>reliability_01</th>\n",
       "      <th>is_a_dog_01</th>\n",
       "      <th>breed_prediction_02</th>\n",
       "      <th>reliability_02</th>\n",
       "      <th>is_a_dog_02</th>\n",
       "      <th>breed_prediction_03</th>\n",
       "      <th>reliability_03</th>\n",
       "      <th>is_a_dog_03</th>\n",
       "    </tr>\n",
       "  </thead>\n",
       "  <tbody>\n",
       "    <tr>\n",
       "      <th>1687</th>\n",
       "      <td>673317986296586240</td>\n",
       "      <td>2015-12-06 01:48:12 +0000</td>\n",
       "      <td>&lt;a href=\"http://twitter.com/download/iphone\" r...</td>\n",
       "      <td>Take a moment and appreciate how these two dog...</td>\n",
       "      <td>10.0</td>\n",
       "      <td>10</td>\n",
       "      <td>None</td>\n",
       "      <td></td>\n",
       "      <td>902</td>\n",
       "      <td>281</td>\n",
       "      <td>...</td>\n",
       "      <td>2</td>\n",
       "      <td>Miniature Pinscher</td>\n",
       "      <td>0.384099</td>\n",
       "      <td>True</td>\n",
       "      <td>Bloodhound</td>\n",
       "      <td>0.079923</td>\n",
       "      <td>True</td>\n",
       "      <td>Rottweiler</td>\n",
       "      <td>0.068594</td>\n",
       "      <td>True</td>\n",
       "    </tr>\n",
       "  </tbody>\n",
       "</table>\n",
       "<p>1 rows × 21 columns</p>\n",
       "</div>"
      ],
      "text/plain": [
       "                tweet_id                  timestamp  \\\n",
       "1687  673317986296586240  2015-12-06 01:48:12 +0000   \n",
       "\n",
       "                                                 source  \\\n",
       "1687  <a href=\"http://twitter.com/download/iphone\" r...   \n",
       "\n",
       "                                                   text  rating_numerator  \\\n",
       "1687  Take a moment and appreciate how these two dog...              10.0   \n",
       "\n",
       "      rating_denominator  name dog_stage  favorite_count  retweet_count  \\\n",
       "1687                  10  None                       902            281   \n",
       "\n",
       "         ...      img_num  breed_prediction_01 reliability_01  is_a_dog_01  \\\n",
       "1687     ...            2   Miniature Pinscher       0.384099         True   \n",
       "\n",
       "      breed_prediction_02 reliability_02  is_a_dog_02  breed_prediction_03  \\\n",
       "1687           Bloodhound       0.079923         True           Rottweiler   \n",
       "\n",
       "     reliability_03  is_a_dog_03  \n",
       "1687       0.068594         True  \n",
       "\n",
       "[1 rows x 21 columns]"
      ]
     },
     "execution_count": 90,
     "metadata": {},
     "output_type": "execute_result"
    }
   ],
   "source": [
    "df_tweets.sample(1)"
   ]
  },
  {
   "cell_type": "markdown",
   "metadata": {},
   "source": [
    "---"
   ]
  },
  {
   "cell_type": "markdown",
   "metadata": {},
   "source": [
    "##### Limpeza 12\n",
    "\n",
    "No dataframe **df_tweets**, durante a análise optou-se por utilizar os valores da colunas **breed_prediction_01** por ter maior índice de certeza de predição, de acordo com coluna **reliability_percent_01**.  \n",
    "Porém, mesmo as linhas que tem 100% (1.0) na coluna **reliability_percent_01**, possuem valores na coluna **breed_prediction_01** que não são nomes de raça. Porque o algorítimo de predição deu o nome para algo que identificou na foto e não da raça do cão.\n",
    "#### Definição\n",
    "- Utilizar uma lista de raças de cães reconhecidas pelo Amereican Kennel Club e lista obtida no site Kaggle, para identificar os valores válidos na coluna **breed_prediction_01**. Os valores que não estiverem nas listas devem ser alterados como 'indefinite'.\n"
   ]
  },
  {
   "cell_type": "markdown",
   "metadata": {},
   "source": [
    "##### Codificação"
   ]
  },
  {
   "cell_type": "code",
   "execution_count": 91,
   "metadata": {
    "scrolled": true
   },
   "outputs": [],
   "source": [
    "# Faz uma cópia do dataframe\n",
    "df_tweets_v8 = df_tweets.copy()\n",
    "\n",
    "# Carrega lsita de raças em dataframes\n",
    "df_akc = pd.read_csv('breed_list_akc.csv', sep='\\t')\n",
    "df_kaggle = pd.read_csv('breed_list_kaggle.csv', sep='\\t')\n",
    "\n",
    "# Converte dataframes em listas\n",
    "breeds_akc = df_akc.breed.tolist()\n",
    "breeds_kaggle = df_kaggle.breed.tolist()"
   ]
  },
  {
   "cell_type": "code",
   "execution_count": 92,
   "metadata": {},
   "outputs": [],
   "source": [
    "# Filtra e altera raças na coluna 'breed_prediction_01'\n",
    "for t in df_tweets['breed_prediction_01']:\n",
    "    if (t not in breeds_akc and t not in breeds_kaggle):\n",
    "        df_tweets.loc[df_tweets['breed_prediction_01'] == t, 'breed_prediction_01'] = 'indefinite'"
   ]
  },
  {
   "cell_type": "markdown",
   "metadata": {},
   "source": [
    "##### Teste"
   ]
  },
  {
   "cell_type": "code",
   "execution_count": 93,
   "metadata": {},
   "outputs": [
    {
     "data": {
      "text/plain": [
       "indefinite                     506\n",
       "Golden Retriever               139\n",
       "Labrador Retriever              95\n",
       "Pembroke                        88\n",
       "Chihuahua                       79\n",
       "Pug                             54\n",
       "Chow                            41\n",
       "Samoyed                         40\n",
       "Pomeranian                      38\n",
       "Toy Poodle                      38\n",
       "Malamute                        29\n",
       "Cocker Spaniel                  27\n",
       "French Bulldog                  26\n",
       "Chesapeake Bay Retriever        23\n",
       "Miniature Pinscher              22\n",
       "Siberian Husky                  20\n",
       "German Shepherd                 20\n",
       "Staffordshire Bullterrier       19\n",
       "Shetland Sheepdog               18\n",
       "Maltese Dog                     18\n",
       "Eskimo Dog                      18\n",
       "Rottweiler                      17\n",
       "Beagle                          17\n",
       "Cardigan                        17\n",
       "Shih-Tzu                        17\n",
       "Italian Greyhound               16\n",
       "Lakeland Terrier                16\n",
       "Kuvasz                          16\n",
       "Great Pyrenees                  14\n",
       "West Highland White Terrier     13\n",
       "                              ... \n",
       "Gordon Setter                    4\n",
       "Rhodesian Ridgeback              4\n",
       "Afghan Hound                     3\n",
       "Giant Schnauzer                  3\n",
       "Irish Water Spaniel              3\n",
       "Greater Swiss Mountain Dog       3\n",
       "Scottish Deerhound               3\n",
       "Welsh Springer Spaniel           3\n",
       "Ibizan Hound                     3\n",
       "Cairn                            3\n",
       "Brabancon Griffon                3\n",
       "Komondor                         3\n",
       "Briard                           3\n",
       "Curly-Coated Retriever           3\n",
       "Leonberg                         3\n",
       "Black-And-Tan Coonhound          2\n",
       "Wire-Haired Fox Terrier          2\n",
       "Sussex Spaniel                   2\n",
       "Australian Terrier               2\n",
       "Toy Terrier                      2\n",
       "Appenzeller                      2\n",
       "Dhole                            1\n",
       "Silky Terrier                    1\n",
       "Clumber                          1\n",
       "Standard Schnauzer               1\n",
       "African Hunting Dog              1\n",
       "Groenendael                      1\n",
       "Scotch Terrier                   1\n",
       "Japanese Spaniel                 1\n",
       "Entlebucher                      1\n",
       "Name: breed_prediction_01, Length: 115, dtype: int64"
      ]
     },
     "execution_count": 93,
     "metadata": {},
     "output_type": "execute_result"
    }
   ],
   "source": [
    "df_tweets.breed_prediction_01.value_counts()"
   ]
  },
  {
   "cell_type": "markdown",
   "metadata": {},
   "source": [
    "- Após o processo de limpeza dataframe foi salvo no arquivo **twitter_archive_master.csv**."
   ]
  },
  {
   "cell_type": "code",
   "execution_count": 94,
   "metadata": {},
   "outputs": [],
   "source": [
    "# Salva o dataframe 'df_tweets' no arquivo CSV 'tweets_clean.csv'.\n",
    "df_tweets.to_csv('twitter_archive_master.csv', sep='\\t', encoding='utf-8', index=False)"
   ]
  },
  {
   "cell_type": "markdown",
   "metadata": {},
   "source": [
    "---"
   ]
  },
  {
   "cell_type": "markdown",
   "metadata": {},
   "source": [
    "### Exploração dos dados"
   ]
  },
  {
   "cell_type": "markdown",
   "metadata": {},
   "source": [
    "- Importação do conjunto de dados limpos e das bibliotecas úteis para exploração e análise."
   ]
  },
  {
   "cell_type": "code",
   "execution_count": 95,
   "metadata": {},
   "outputs": [],
   "source": [
    "# Importa bibliotecas úteis\n",
    "import pandas as pd\n",
    "import numpy as np\n",
    "import matplotlib.pyplot as plt\n",
    "% matplotlib inline\n",
    "\n",
    "# Importa o conjunto de dados limpos\n",
    "df = pd.read_csv('twitter_archive_master.csv', sep='\\t')"
   ]
  },
  {
   "cell_type": "markdown",
   "metadata": {},
   "source": [
    "- A quatidade de linhas confere com a quantidade de registros esperada no conjunto de dados."
   ]
  },
  {
   "cell_type": "code",
   "execution_count": 96,
   "metadata": {
    "scrolled": true
   },
   "outputs": [
    {
     "name": "stdout",
     "output_type": "stream",
     "text": [
      "(1993, 21)\n"
     ]
    }
   ],
   "source": [
    "# Verifica a quantidade de linhas e colunas.\n",
    "print(df.shape)"
   ]
  },
  {
   "cell_type": "markdown",
   "metadata": {},
   "source": [
    "- Início da observação dos dados para responder aos questionamento."
   ]
  },
  {
   "cell_type": "code",
   "execution_count": 97,
   "metadata": {
    "scrolled": true
   },
   "outputs": [
    {
     "data": {
      "text/html": [
       "<div>\n",
       "<style scoped>\n",
       "    .dataframe tbody tr th:only-of-type {\n",
       "        vertical-align: middle;\n",
       "    }\n",
       "\n",
       "    .dataframe tbody tr th {\n",
       "        vertical-align: top;\n",
       "    }\n",
       "\n",
       "    .dataframe thead th {\n",
       "        text-align: right;\n",
       "    }\n",
       "</style>\n",
       "<table border=\"1\" class=\"dataframe\">\n",
       "  <thead>\n",
       "    <tr style=\"text-align: right;\">\n",
       "      <th></th>\n",
       "      <th>tweet_id</th>\n",
       "      <th>timestamp</th>\n",
       "      <th>source</th>\n",
       "      <th>text</th>\n",
       "      <th>rating_numerator</th>\n",
       "      <th>rating_denominator</th>\n",
       "      <th>name</th>\n",
       "      <th>dog_stage</th>\n",
       "      <th>favorite_count</th>\n",
       "      <th>retweet_count</th>\n",
       "      <th>...</th>\n",
       "      <th>img_num</th>\n",
       "      <th>breed_prediction_01</th>\n",
       "      <th>reliability_01</th>\n",
       "      <th>is_a_dog_01</th>\n",
       "      <th>breed_prediction_02</th>\n",
       "      <th>reliability_02</th>\n",
       "      <th>is_a_dog_02</th>\n",
       "      <th>breed_prediction_03</th>\n",
       "      <th>reliability_03</th>\n",
       "      <th>is_a_dog_03</th>\n",
       "    </tr>\n",
       "  </thead>\n",
       "  <tbody>\n",
       "    <tr>\n",
       "      <th>1536</th>\n",
       "      <td>674788554665512960</td>\n",
       "      <td>2015-12-10 03:11:43 +0000</td>\n",
       "      <td>&lt;a href=\"http://twitter.com/download/iphone\" r...</td>\n",
       "      <td>Say hello to Maggie. She's a Western Septic Do...</td>\n",
       "      <td>9.0</td>\n",
       "      <td>10</td>\n",
       "      <td>Maggie</td>\n",
       "      <td>NaN</td>\n",
       "      <td>847</td>\n",
       "      <td>223</td>\n",
       "      <td>...</td>\n",
       "      <td>1</td>\n",
       "      <td>Miniature Poodle</td>\n",
       "      <td>0.349561</td>\n",
       "      <td>True</td>\n",
       "      <td>Toy Poodle</td>\n",
       "      <td>0.154711</td>\n",
       "      <td>True</td>\n",
       "      <td>Maltese Dog</td>\n",
       "      <td>0.134229</td>\n",
       "      <td>True</td>\n",
       "    </tr>\n",
       "    <tr>\n",
       "      <th>962</th>\n",
       "      <td>711694788429553666</td>\n",
       "      <td>2016-03-20 23:23:54 +0000</td>\n",
       "      <td>&lt;a href=\"http://twitter.com/download/iphone\" r...</td>\n",
       "      <td>Oh. My. God. 13/10 magical af https://t.co/Ezu...</td>\n",
       "      <td>13.0</td>\n",
       "      <td>10</td>\n",
       "      <td>None</td>\n",
       "      <td>NaN</td>\n",
       "      <td>35120</td>\n",
       "      <td>19960</td>\n",
       "      <td>...</td>\n",
       "      <td>1</td>\n",
       "      <td>indefinite</td>\n",
       "      <td>0.713293</td>\n",
       "      <td>False</td>\n",
       "      <td>Indian Elephant</td>\n",
       "      <td>0.172844</td>\n",
       "      <td>False</td>\n",
       "      <td>Water Buffalo</td>\n",
       "      <td>0.038902</td>\n",
       "      <td>False</td>\n",
       "    </tr>\n",
       "    <tr>\n",
       "      <th>310</th>\n",
       "      <td>822859134160621569</td>\n",
       "      <td>2017-01-21 17:31:20 +0000</td>\n",
       "      <td>&lt;a href=\"http://twitter.com/download/iphone\" r...</td>\n",
       "      <td>This is Hobbes. He was told he was going to th...</td>\n",
       "      <td>12.0</td>\n",
       "      <td>10</td>\n",
       "      <td>Hobbes</td>\n",
       "      <td>NaN</td>\n",
       "      <td>14308</td>\n",
       "      <td>2557</td>\n",
       "      <td>...</td>\n",
       "      <td>1</td>\n",
       "      <td>Malinois</td>\n",
       "      <td>0.332897</td>\n",
       "      <td>True</td>\n",
       "      <td>Chihuahua</td>\n",
       "      <td>0.104116</td>\n",
       "      <td>True</td>\n",
       "      <td>Staffordshire Bullterrier</td>\n",
       "      <td>0.047745</td>\n",
       "      <td>True</td>\n",
       "    </tr>\n",
       "    <tr>\n",
       "      <th>1400</th>\n",
       "      <td>679511351870550016</td>\n",
       "      <td>2015-12-23 03:58:25 +0000</td>\n",
       "      <td>&lt;a href=\"http://twitter.com/download/iphone\" r...</td>\n",
       "      <td>Say hello to William. He makes fun of others b...</td>\n",
       "      <td>7.0</td>\n",
       "      <td>10</td>\n",
       "      <td>William</td>\n",
       "      <td>NaN</td>\n",
       "      <td>3605</td>\n",
       "      <td>1415</td>\n",
       "      <td>...</td>\n",
       "      <td>1</td>\n",
       "      <td>Chihuahua</td>\n",
       "      <td>0.761972</td>\n",
       "      <td>True</td>\n",
       "      <td>Black-Footed Ferret</td>\n",
       "      <td>0.150605</td>\n",
       "      <td>False</td>\n",
       "      <td>Squirrel Monkey</td>\n",
       "      <td>0.028148</td>\n",
       "      <td>False</td>\n",
       "    </tr>\n",
       "    <tr>\n",
       "      <th>727</th>\n",
       "      <td>749774190421639168</td>\n",
       "      <td>2016-07-04 01:17:51 +0000</td>\n",
       "      <td>&lt;a href=\"http://twitter.com/download/iphone\" r...</td>\n",
       "      <td>This is Lucy. She's a Benebop Cumberplop. 12/1...</td>\n",
       "      <td>12.0</td>\n",
       "      <td>10</td>\n",
       "      <td>Lucy</td>\n",
       "      <td>NaN</td>\n",
       "      <td>5022</td>\n",
       "      <td>1451</td>\n",
       "      <td>...</td>\n",
       "      <td>1</td>\n",
       "      <td>Pekinese</td>\n",
       "      <td>0.879012</td>\n",
       "      <td>True</td>\n",
       "      <td>Chihuahua</td>\n",
       "      <td>0.054855</td>\n",
       "      <td>True</td>\n",
       "      <td>Blenheim Spaniel</td>\n",
       "      <td>0.021041</td>\n",
       "      <td>True</td>\n",
       "    </tr>\n",
       "    <tr>\n",
       "      <th>932</th>\n",
       "      <td>715360349751484417</td>\n",
       "      <td>2016-03-31 02:09:32 +0000</td>\n",
       "      <td>&lt;a href=\"http://twitter.com/download/iphone\" r...</td>\n",
       "      <td>This is Bertson. He just wants to say hi. 11/1...</td>\n",
       "      <td>11.0</td>\n",
       "      <td>10</td>\n",
       "      <td>Bertson</td>\n",
       "      <td>NaN</td>\n",
       "      <td>5841</td>\n",
       "      <td>1717</td>\n",
       "      <td>...</td>\n",
       "      <td>1</td>\n",
       "      <td>indefinite</td>\n",
       "      <td>0.855552</td>\n",
       "      <td>False</td>\n",
       "      <td>Screw</td>\n",
       "      <td>0.073277</td>\n",
       "      <td>False</td>\n",
       "      <td>Padlock</td>\n",
       "      <td>0.023970</td>\n",
       "      <td>False</td>\n",
       "    </tr>\n",
       "    <tr>\n",
       "      <th>1082</th>\n",
       "      <td>700864154249383937</td>\n",
       "      <td>2016-02-20 02:06:50 +0000</td>\n",
       "      <td>&lt;a href=\"http://twitter.com/download/iphone\" r...</td>\n",
       "      <td>\"Pupper is a present to world. Here is a bow f...</td>\n",
       "      <td>12.0</td>\n",
       "      <td>10</td>\n",
       "      <td>None</td>\n",
       "      <td>pupper</td>\n",
       "      <td>2779</td>\n",
       "      <td>669</td>\n",
       "      <td>...</td>\n",
       "      <td>1</td>\n",
       "      <td>Kuvasz</td>\n",
       "      <td>0.805857</td>\n",
       "      <td>True</td>\n",
       "      <td>Great Pyrenees</td>\n",
       "      <td>0.187272</td>\n",
       "      <td>True</td>\n",
       "      <td>Samoyed</td>\n",
       "      <td>0.003491</td>\n",
       "      <td>True</td>\n",
       "    </tr>\n",
       "    <tr>\n",
       "      <th>732</th>\n",
       "      <td>749064354620928000</td>\n",
       "      <td>2016-07-02 02:17:13 +0000</td>\n",
       "      <td>&lt;a href=\"http://twitter.com/download/iphone\" r...</td>\n",
       "      <td>Meet Winston. He's pupset because I forgot to ...</td>\n",
       "      <td>11.0</td>\n",
       "      <td>10</td>\n",
       "      <td>Winston</td>\n",
       "      <td>NaN</td>\n",
       "      <td>5179</td>\n",
       "      <td>1676</td>\n",
       "      <td>...</td>\n",
       "      <td>2</td>\n",
       "      <td>Pug</td>\n",
       "      <td>0.985222</td>\n",
       "      <td>True</td>\n",
       "      <td>Brabancon Griffon</td>\n",
       "      <td>0.003314</td>\n",
       "      <td>True</td>\n",
       "      <td>Pekinese</td>\n",
       "      <td>0.002989</td>\n",
       "      <td>True</td>\n",
       "    </tr>\n",
       "    <tr>\n",
       "      <th>1017</th>\n",
       "      <td>707059547140169728</td>\n",
       "      <td>2016-03-08 04:25:07 +0000</td>\n",
       "      <td>&lt;a href=\"http://twitter.com/download/iphone\" r...</td>\n",
       "      <td>Say hello to Cupcake. She's an Icelandic Dippe...</td>\n",
       "      <td>11.0</td>\n",
       "      <td>10</td>\n",
       "      <td>Cupcake</td>\n",
       "      <td>NaN</td>\n",
       "      <td>2755</td>\n",
       "      <td>741</td>\n",
       "      <td>...</td>\n",
       "      <td>1</td>\n",
       "      <td>Samoyed</td>\n",
       "      <td>0.897312</td>\n",
       "      <td>True</td>\n",
       "      <td>Great Pyrenees</td>\n",
       "      <td>0.039180</td>\n",
       "      <td>True</td>\n",
       "      <td>Kuvasz</td>\n",
       "      <td>0.019516</td>\n",
       "      <td>True</td>\n",
       "    </tr>\n",
       "    <tr>\n",
       "      <th>285</th>\n",
       "      <td>827600520311402496</td>\n",
       "      <td>2017-02-03 19:31:54 +0000</td>\n",
       "      <td>&lt;a href=\"http://twitter.com/download/iphone\" r...</td>\n",
       "      <td>Meet Tucker. It's his birthday. He's pupset wi...</td>\n",
       "      <td>13.0</td>\n",
       "      <td>10</td>\n",
       "      <td>Tucker</td>\n",
       "      <td>NaN</td>\n",
       "      <td>8011</td>\n",
       "      <td>1054</td>\n",
       "      <td>...</td>\n",
       "      <td>1</td>\n",
       "      <td>Pembroke</td>\n",
       "      <td>0.325638</td>\n",
       "      <td>True</td>\n",
       "      <td>Golden Retriever</td>\n",
       "      <td>0.317235</td>\n",
       "      <td>True</td>\n",
       "      <td>Labrador Retriever</td>\n",
       "      <td>0.116087</td>\n",
       "      <td>True</td>\n",
       "    </tr>\n",
       "    <tr>\n",
       "      <th>1292</th>\n",
       "      <td>684914660081053696</td>\n",
       "      <td>2016-01-07 01:49:14 +0000</td>\n",
       "      <td>&lt;a href=\"http://twitter.com/download/iphone\" r...</td>\n",
       "      <td>\"Hello yes I'll just get one of each color tha...</td>\n",
       "      <td>12.0</td>\n",
       "      <td>10</td>\n",
       "      <td>None</td>\n",
       "      <td>NaN</td>\n",
       "      <td>3756</td>\n",
       "      <td>1611</td>\n",
       "      <td>...</td>\n",
       "      <td>1</td>\n",
       "      <td>indefinite</td>\n",
       "      <td>0.460950</td>\n",
       "      <td>False</td>\n",
       "      <td>Chow</td>\n",
       "      <td>0.261288</td>\n",
       "      <td>True</td>\n",
       "      <td>Labrador Retriever</td>\n",
       "      <td>0.074194</td>\n",
       "      <td>True</td>\n",
       "    </tr>\n",
       "    <tr>\n",
       "      <th>739</th>\n",
       "      <td>748575535303884801</td>\n",
       "      <td>2016-06-30 17:54:50 +0000</td>\n",
       "      <td>&lt;a href=\"http://twitter.com/download/iphone\" r...</td>\n",
       "      <td>This is one of the most reckless puppers I've ...</td>\n",
       "      <td>6.0</td>\n",
       "      <td>10</td>\n",
       "      <td>None</td>\n",
       "      <td>NaN</td>\n",
       "      <td>6553</td>\n",
       "      <td>2203</td>\n",
       "      <td>...</td>\n",
       "      <td>1</td>\n",
       "      <td>indefinite</td>\n",
       "      <td>0.176172</td>\n",
       "      <td>False</td>\n",
       "      <td>Seat Belt</td>\n",
       "      <td>0.160953</td>\n",
       "      <td>False</td>\n",
       "      <td>Soft-Coated Wheaten Terrier</td>\n",
       "      <td>0.086499</td>\n",
       "      <td>True</td>\n",
       "    </tr>\n",
       "    <tr>\n",
       "      <th>250</th>\n",
       "      <td>832636094638288896</td>\n",
       "      <td>2017-02-17 17:01:29 +0000</td>\n",
       "      <td>&lt;a href=\"http://twitter.com/download/iphone\" r...</td>\n",
       "      <td>This is Orion. He just got back from the denti...</td>\n",
       "      <td>12.0</td>\n",
       "      <td>10</td>\n",
       "      <td>Orion</td>\n",
       "      <td>NaN</td>\n",
       "      <td>17056</td>\n",
       "      <td>3108</td>\n",
       "      <td>...</td>\n",
       "      <td>1</td>\n",
       "      <td>Eskimo Dog</td>\n",
       "      <td>0.525032</td>\n",
       "      <td>True</td>\n",
       "      <td>Siberian Husky</td>\n",
       "      <td>0.252238</td>\n",
       "      <td>True</td>\n",
       "      <td>Malamute</td>\n",
       "      <td>0.216839</td>\n",
       "      <td>True</td>\n",
       "    </tr>\n",
       "    <tr>\n",
       "      <th>470</th>\n",
       "      <td>793135492858580992</td>\n",
       "      <td>2016-10-31 17:00:11 +0000</td>\n",
       "      <td>&lt;a href=\"http://twitter.com/download/iphone\" r...</td>\n",
       "      <td>Your favorite squad is looking extra h*ckin sp...</td>\n",
       "      <td>13.0</td>\n",
       "      <td>10</td>\n",
       "      <td>None</td>\n",
       "      <td>NaN</td>\n",
       "      <td>7075</td>\n",
       "      <td>2805</td>\n",
       "      <td>...</td>\n",
       "      <td>1</td>\n",
       "      <td>indefinite</td>\n",
       "      <td>0.737041</td>\n",
       "      <td>False</td>\n",
       "      <td>Saltshaker</td>\n",
       "      <td>0.052396</td>\n",
       "      <td>False</td>\n",
       "      <td>Teddy</td>\n",
       "      <td>0.046593</td>\n",
       "      <td>False</td>\n",
       "    </tr>\n",
       "    <tr>\n",
       "      <th>1597</th>\n",
       "      <td>673662677122719744</td>\n",
       "      <td>2015-12-07 00:37:52 +0000</td>\n",
       "      <td>&lt;a href=\"http://twitter.com/download/iphone\" r...</td>\n",
       "      <td>This is Kendall. 12/10 would cuddle the hell o...</td>\n",
       "      <td>12.0</td>\n",
       "      <td>10</td>\n",
       "      <td>Kendall</td>\n",
       "      <td>NaN</td>\n",
       "      <td>1304</td>\n",
       "      <td>384</td>\n",
       "      <td>...</td>\n",
       "      <td>1</td>\n",
       "      <td>Labrador Retriever</td>\n",
       "      <td>0.957670</td>\n",
       "      <td>True</td>\n",
       "      <td>Beagle</td>\n",
       "      <td>0.012413</td>\n",
       "      <td>True</td>\n",
       "      <td>Golden Retriever</td>\n",
       "      <td>0.005689</td>\n",
       "      <td>True</td>\n",
       "    </tr>\n",
       "    <tr>\n",
       "      <th>1149</th>\n",
       "      <td>695314793360662529</td>\n",
       "      <td>2016-02-04 18:35:39 +0000</td>\n",
       "      <td>&lt;a href=\"http://twitter.com/download/iphone\" r...</td>\n",
       "      <td>This is Colin. He really likes green beans. It...</td>\n",
       "      <td>10.0</td>\n",
       "      <td>10</td>\n",
       "      <td>Colin</td>\n",
       "      <td>NaN</td>\n",
       "      <td>3915</td>\n",
       "      <td>1620</td>\n",
       "      <td>...</td>\n",
       "      <td>2</td>\n",
       "      <td>Maltese Dog</td>\n",
       "      <td>0.678547</td>\n",
       "      <td>True</td>\n",
       "      <td>Lhasa</td>\n",
       "      <td>0.125046</td>\n",
       "      <td>True</td>\n",
       "      <td>Pekinese</td>\n",
       "      <td>0.048999</td>\n",
       "      <td>True</td>\n",
       "    </tr>\n",
       "    <tr>\n",
       "      <th>1695</th>\n",
       "      <td>671486386088865792</td>\n",
       "      <td>2015-12-01 00:30:04 +0000</td>\n",
       "      <td>&lt;a href=\"http://twitter.com/download/iphone\" r...</td>\n",
       "      <td>This is Malcolm. He just saw a spider. 10/10 h...</td>\n",
       "      <td>10.0</td>\n",
       "      <td>10</td>\n",
       "      <td>Malcolm</td>\n",
       "      <td>NaN</td>\n",
       "      <td>604</td>\n",
       "      <td>217</td>\n",
       "      <td>...</td>\n",
       "      <td>1</td>\n",
       "      <td>German Shepherd</td>\n",
       "      <td>0.827035</td>\n",
       "      <td>True</td>\n",
       "      <td>Kelpie</td>\n",
       "      <td>0.087648</td>\n",
       "      <td>True</td>\n",
       "      <td>Red Wolf</td>\n",
       "      <td>0.031218</td>\n",
       "      <td>False</td>\n",
       "    </tr>\n",
       "    <tr>\n",
       "      <th>1169</th>\n",
       "      <td>693280720173801472</td>\n",
       "      <td>2016-01-30 03:52:58 +0000</td>\n",
       "      <td>&lt;a href=\"http://twitter.com/download/iphone\" r...</td>\n",
       "      <td>This is Sadie and her 2 pups Shebang &amp;amp; Ruf...</td>\n",
       "      <td>10.0</td>\n",
       "      <td>10</td>\n",
       "      <td>Sadie</td>\n",
       "      <td>NaN</td>\n",
       "      <td>3601</td>\n",
       "      <td>1362</td>\n",
       "      <td>...</td>\n",
       "      <td>1</td>\n",
       "      <td>Labrador Retriever</td>\n",
       "      <td>0.340008</td>\n",
       "      <td>True</td>\n",
       "      <td>Bull Mastiff</td>\n",
       "      <td>0.175316</td>\n",
       "      <td>True</td>\n",
       "      <td>Box Turtle</td>\n",
       "      <td>0.164337</td>\n",
       "      <td>False</td>\n",
       "    </tr>\n",
       "    <tr>\n",
       "      <th>1186</th>\n",
       "      <td>692158366030913536</td>\n",
       "      <td>2016-01-27 01:33:08 +0000</td>\n",
       "      <td>&lt;a href=\"http://twitter.com/download/iphone\" r...</td>\n",
       "      <td>This is Edgar. He's a Sassafras Puggleflash. N...</td>\n",
       "      <td>10.0</td>\n",
       "      <td>10</td>\n",
       "      <td>Edgar</td>\n",
       "      <td>NaN</td>\n",
       "      <td>2311</td>\n",
       "      <td>876</td>\n",
       "      <td>...</td>\n",
       "      <td>1</td>\n",
       "      <td>Pug</td>\n",
       "      <td>0.956565</td>\n",
       "      <td>True</td>\n",
       "      <td>Swing</td>\n",
       "      <td>0.018907</td>\n",
       "      <td>False</td>\n",
       "      <td>Toy Poodle</td>\n",
       "      <td>0.013544</td>\n",
       "      <td>True</td>\n",
       "    </tr>\n",
       "    <tr>\n",
       "      <th>1883</th>\n",
       "      <td>667902449697558528</td>\n",
       "      <td>2015-11-21 03:08:47 +0000</td>\n",
       "      <td>&lt;a href=\"http://twitter.com/download/iphone\" r...</td>\n",
       "      <td>This is Cleopatricia. She is a northern Paperb...</td>\n",
       "      <td>9.0</td>\n",
       "      <td>10</td>\n",
       "      <td>Cleopatricia</td>\n",
       "      <td>NaN</td>\n",
       "      <td>876</td>\n",
       "      <td>390</td>\n",
       "      <td>...</td>\n",
       "      <td>1</td>\n",
       "      <td>Norwegian Elkhound</td>\n",
       "      <td>0.298881</td>\n",
       "      <td>True</td>\n",
       "      <td>Malamute</td>\n",
       "      <td>0.279479</td>\n",
       "      <td>True</td>\n",
       "      <td>Eskimo Dog</td>\n",
       "      <td>0.198428</td>\n",
       "      <td>True</td>\n",
       "    </tr>\n",
       "  </tbody>\n",
       "</table>\n",
       "<p>20 rows × 21 columns</p>\n",
       "</div>"
      ],
      "text/plain": [
       "                tweet_id                  timestamp  \\\n",
       "1536  674788554665512960  2015-12-10 03:11:43 +0000   \n",
       "962   711694788429553666  2016-03-20 23:23:54 +0000   \n",
       "310   822859134160621569  2017-01-21 17:31:20 +0000   \n",
       "1400  679511351870550016  2015-12-23 03:58:25 +0000   \n",
       "727   749774190421639168  2016-07-04 01:17:51 +0000   \n",
       "932   715360349751484417  2016-03-31 02:09:32 +0000   \n",
       "1082  700864154249383937  2016-02-20 02:06:50 +0000   \n",
       "732   749064354620928000  2016-07-02 02:17:13 +0000   \n",
       "1017  707059547140169728  2016-03-08 04:25:07 +0000   \n",
       "285   827600520311402496  2017-02-03 19:31:54 +0000   \n",
       "1292  684914660081053696  2016-01-07 01:49:14 +0000   \n",
       "739   748575535303884801  2016-06-30 17:54:50 +0000   \n",
       "250   832636094638288896  2017-02-17 17:01:29 +0000   \n",
       "470   793135492858580992  2016-10-31 17:00:11 +0000   \n",
       "1597  673662677122719744  2015-12-07 00:37:52 +0000   \n",
       "1149  695314793360662529  2016-02-04 18:35:39 +0000   \n",
       "1695  671486386088865792  2015-12-01 00:30:04 +0000   \n",
       "1169  693280720173801472  2016-01-30 03:52:58 +0000   \n",
       "1186  692158366030913536  2016-01-27 01:33:08 +0000   \n",
       "1883  667902449697558528  2015-11-21 03:08:47 +0000   \n",
       "\n",
       "                                                 source  \\\n",
       "1536  <a href=\"http://twitter.com/download/iphone\" r...   \n",
       "962   <a href=\"http://twitter.com/download/iphone\" r...   \n",
       "310   <a href=\"http://twitter.com/download/iphone\" r...   \n",
       "1400  <a href=\"http://twitter.com/download/iphone\" r...   \n",
       "727   <a href=\"http://twitter.com/download/iphone\" r...   \n",
       "932   <a href=\"http://twitter.com/download/iphone\" r...   \n",
       "1082  <a href=\"http://twitter.com/download/iphone\" r...   \n",
       "732   <a href=\"http://twitter.com/download/iphone\" r...   \n",
       "1017  <a href=\"http://twitter.com/download/iphone\" r...   \n",
       "285   <a href=\"http://twitter.com/download/iphone\" r...   \n",
       "1292  <a href=\"http://twitter.com/download/iphone\" r...   \n",
       "739   <a href=\"http://twitter.com/download/iphone\" r...   \n",
       "250   <a href=\"http://twitter.com/download/iphone\" r...   \n",
       "470   <a href=\"http://twitter.com/download/iphone\" r...   \n",
       "1597  <a href=\"http://twitter.com/download/iphone\" r...   \n",
       "1149  <a href=\"http://twitter.com/download/iphone\" r...   \n",
       "1695  <a href=\"http://twitter.com/download/iphone\" r...   \n",
       "1169  <a href=\"http://twitter.com/download/iphone\" r...   \n",
       "1186  <a href=\"http://twitter.com/download/iphone\" r...   \n",
       "1883  <a href=\"http://twitter.com/download/iphone\" r...   \n",
       "\n",
       "                                                   text  rating_numerator  \\\n",
       "1536  Say hello to Maggie. She's a Western Septic Do...               9.0   \n",
       "962   Oh. My. God. 13/10 magical af https://t.co/Ezu...              13.0   \n",
       "310   This is Hobbes. He was told he was going to th...              12.0   \n",
       "1400  Say hello to William. He makes fun of others b...               7.0   \n",
       "727   This is Lucy. She's a Benebop Cumberplop. 12/1...              12.0   \n",
       "932   This is Bertson. He just wants to say hi. 11/1...              11.0   \n",
       "1082  \"Pupper is a present to world. Here is a bow f...              12.0   \n",
       "732   Meet Winston. He's pupset because I forgot to ...              11.0   \n",
       "1017  Say hello to Cupcake. She's an Icelandic Dippe...              11.0   \n",
       "285   Meet Tucker. It's his birthday. He's pupset wi...              13.0   \n",
       "1292  \"Hello yes I'll just get one of each color tha...              12.0   \n",
       "739   This is one of the most reckless puppers I've ...               6.0   \n",
       "250   This is Orion. He just got back from the denti...              12.0   \n",
       "470   Your favorite squad is looking extra h*ckin sp...              13.0   \n",
       "1597  This is Kendall. 12/10 would cuddle the hell o...              12.0   \n",
       "1149  This is Colin. He really likes green beans. It...              10.0   \n",
       "1695  This is Malcolm. He just saw a spider. 10/10 h...              10.0   \n",
       "1169  This is Sadie and her 2 pups Shebang &amp; Ruf...              10.0   \n",
       "1186  This is Edgar. He's a Sassafras Puggleflash. N...              10.0   \n",
       "1883  This is Cleopatricia. She is a northern Paperb...               9.0   \n",
       "\n",
       "      rating_denominator          name dog_stage  favorite_count  \\\n",
       "1536                  10        Maggie       NaN             847   \n",
       "962                   10          None       NaN           35120   \n",
       "310                   10        Hobbes       NaN           14308   \n",
       "1400                  10       William       NaN            3605   \n",
       "727                   10          Lucy       NaN            5022   \n",
       "932                   10       Bertson       NaN            5841   \n",
       "1082                  10          None    pupper            2779   \n",
       "732                   10       Winston       NaN            5179   \n",
       "1017                  10       Cupcake       NaN            2755   \n",
       "285                   10        Tucker       NaN            8011   \n",
       "1292                  10          None       NaN            3756   \n",
       "739                   10          None       NaN            6553   \n",
       "250                   10         Orion       NaN           17056   \n",
       "470                   10          None       NaN            7075   \n",
       "1597                  10       Kendall       NaN            1304   \n",
       "1149                  10         Colin       NaN            3915   \n",
       "1695                  10       Malcolm       NaN             604   \n",
       "1169                  10         Sadie       NaN            3601   \n",
       "1186                  10         Edgar       NaN            2311   \n",
       "1883                  10  Cleopatricia       NaN             876   \n",
       "\n",
       "      retweet_count     ...      img_num  breed_prediction_01 reliability_01  \\\n",
       "1536            223     ...            1     Miniature Poodle       0.349561   \n",
       "962           19960     ...            1           indefinite       0.713293   \n",
       "310            2557     ...            1             Malinois       0.332897   \n",
       "1400           1415     ...            1            Chihuahua       0.761972   \n",
       "727            1451     ...            1             Pekinese       0.879012   \n",
       "932            1717     ...            1           indefinite       0.855552   \n",
       "1082            669     ...            1               Kuvasz       0.805857   \n",
       "732            1676     ...            2                  Pug       0.985222   \n",
       "1017            741     ...            1              Samoyed       0.897312   \n",
       "285            1054     ...            1             Pembroke       0.325638   \n",
       "1292           1611     ...            1           indefinite       0.460950   \n",
       "739            2203     ...            1           indefinite       0.176172   \n",
       "250            3108     ...            1           Eskimo Dog       0.525032   \n",
       "470            2805     ...            1           indefinite       0.737041   \n",
       "1597            384     ...            1   Labrador Retriever       0.957670   \n",
       "1149           1620     ...            2          Maltese Dog       0.678547   \n",
       "1695            217     ...            1      German Shepherd       0.827035   \n",
       "1169           1362     ...            1   Labrador Retriever       0.340008   \n",
       "1186            876     ...            1                  Pug       0.956565   \n",
       "1883            390     ...            1   Norwegian Elkhound       0.298881   \n",
       "\n",
       "      is_a_dog_01  breed_prediction_02 reliability_02  is_a_dog_02  \\\n",
       "1536         True           Toy Poodle       0.154711         True   \n",
       "962         False      Indian Elephant       0.172844        False   \n",
       "310          True            Chihuahua       0.104116         True   \n",
       "1400         True  Black-Footed Ferret       0.150605        False   \n",
       "727          True            Chihuahua       0.054855         True   \n",
       "932         False                Screw       0.073277        False   \n",
       "1082         True       Great Pyrenees       0.187272         True   \n",
       "732          True    Brabancon Griffon       0.003314         True   \n",
       "1017         True       Great Pyrenees       0.039180         True   \n",
       "285          True     Golden Retriever       0.317235         True   \n",
       "1292        False                 Chow       0.261288         True   \n",
       "739         False            Seat Belt       0.160953        False   \n",
       "250          True       Siberian Husky       0.252238         True   \n",
       "470         False           Saltshaker       0.052396        False   \n",
       "1597         True               Beagle       0.012413         True   \n",
       "1149         True                Lhasa       0.125046         True   \n",
       "1695         True               Kelpie       0.087648         True   \n",
       "1169         True         Bull Mastiff       0.175316         True   \n",
       "1186         True                Swing       0.018907        False   \n",
       "1883         True             Malamute       0.279479         True   \n",
       "\n",
       "              breed_prediction_03 reliability_03  is_a_dog_03  \n",
       "1536                  Maltese Dog       0.134229         True  \n",
       "962                 Water Buffalo       0.038902        False  \n",
       "310     Staffordshire Bullterrier       0.047745         True  \n",
       "1400              Squirrel Monkey       0.028148        False  \n",
       "727              Blenheim Spaniel       0.021041         True  \n",
       "932                       Padlock       0.023970        False  \n",
       "1082                      Samoyed       0.003491         True  \n",
       "732                      Pekinese       0.002989         True  \n",
       "1017                       Kuvasz       0.019516         True  \n",
       "285            Labrador Retriever       0.116087         True  \n",
       "1292           Labrador Retriever       0.074194         True  \n",
       "739   Soft-Coated Wheaten Terrier       0.086499         True  \n",
       "250                      Malamute       0.216839         True  \n",
       "470                         Teddy       0.046593        False  \n",
       "1597             Golden Retriever       0.005689         True  \n",
       "1149                     Pekinese       0.048999         True  \n",
       "1695                     Red Wolf       0.031218        False  \n",
       "1169                   Box Turtle       0.164337        False  \n",
       "1186                   Toy Poodle       0.013544         True  \n",
       "1883                   Eskimo Dog       0.198428         True  \n",
       "\n",
       "[20 rows x 21 columns]"
      ]
     },
     "execution_count": 97,
     "metadata": {},
     "output_type": "execute_result"
    }
   ],
   "source": [
    "df.sample(20)"
   ]
  },
  {
   "cell_type": "code",
   "execution_count": 98,
   "metadata": {},
   "outputs": [
    {
     "data": {
      "text/plain": [
       "count    1993.000000\n",
       "mean       16.797180\n",
       "std       197.357392\n",
       "min         0.000000\n",
       "25%        10.000000\n",
       "50%        11.000000\n",
       "75%        12.000000\n",
       "max      8612.000000\n",
       "Name: rating_numerator, dtype: float64"
      ]
     },
     "execution_count": 98,
     "metadata": {},
     "output_type": "execute_result"
    }
   ],
   "source": [
    "df['rating_numerator'].describe()"
   ]
  },
  {
   "cell_type": "code",
   "execution_count": 99,
   "metadata": {},
   "outputs": [
    {
     "data": {
      "text/plain": [
       "count      1993.000000\n",
       "mean       8867.045158\n",
       "std       12585.852053\n",
       "min          79.000000\n",
       "25%        1945.000000\n",
       "50%        4057.000000\n",
       "75%       11167.000000\n",
       "max      143576.000000\n",
       "Name: favorite_count, dtype: float64"
      ]
     },
     "execution_count": 99,
     "metadata": {},
     "output_type": "execute_result"
    }
   ],
   "source": [
    "df['favorite_count'].describe()"
   ]
  },
  {
   "cell_type": "code",
   "execution_count": 100,
   "metadata": {},
   "outputs": [
    {
     "data": {
      "text/plain": [
       "count     1993.000000\n",
       "mean      2723.280482\n",
       "std       4701.183848\n",
       "min         13.000000\n",
       "25%        608.000000\n",
       "50%       1316.000000\n",
       "75%       3128.000000\n",
       "max      77476.000000\n",
       "Name: retweet_count, dtype: float64"
      ]
     },
     "execution_count": 100,
     "metadata": {},
     "output_type": "execute_result"
    }
   ],
   "source": [
    "df['retweet_count'].describe()"
   ]
  },
  {
   "cell_type": "code",
   "execution_count": 101,
   "metadata": {
    "scrolled": false
   },
   "outputs": [
    {
     "data": {
      "text/plain": [
       "Charlie    11\n",
       "Oliver     10\n",
       "Cooper     10\n",
       "Lucy       10\n",
       "Penny       9\n",
       "Tucker      9\n",
       "Sadie       8\n",
       "Winston     8\n",
       "Lola        7\n",
       "Daisy       7\n",
       "Name: name, dtype: int64"
      ]
     },
     "execution_count": 101,
     "metadata": {},
     "output_type": "execute_result"
    }
   ],
   "source": [
    "df.query('name != \"None\"')['name'].value_counts()[0:10]"
   ]
  },
  {
   "cell_type": "code",
   "execution_count": 102,
   "metadata": {},
   "outputs": [
    {
     "data": {
      "text/plain": [
       "pupper           203\n",
       "doggo             63\n",
       "puppo             22\n",
       "doggo,pupper       9\n",
       "floofer            7\n",
       "doggo,floofer      1\n",
       "doggo,puppo        1\n",
       "Name: dog_stage, dtype: int64"
      ]
     },
     "execution_count": 102,
     "metadata": {},
     "output_type": "execute_result"
    }
   ],
   "source": [
    "df.query('dog_stage != \"None\"')['dog_stage'].value_counts()[0:10]"
   ]
  },
  {
   "cell_type": "code",
   "execution_count": 103,
   "metadata": {},
   "outputs": [
    {
     "data": {
      "text/plain": [
       "0.594168880883091"
      ]
     },
     "execution_count": 103,
     "metadata": {},
     "output_type": "execute_result"
    }
   ],
   "source": [
    "df.reliability_01.mean()"
   ]
  },
  {
   "cell_type": "code",
   "execution_count": 104,
   "metadata": {},
   "outputs": [
    {
     "data": {
      "text/plain": [
       "0.13442736860818505"
      ]
     },
     "execution_count": 104,
     "metadata": {},
     "output_type": "execute_result"
    }
   ],
   "source": [
    "df.reliability_02.mean()"
   ]
  },
  {
   "cell_type": "code",
   "execution_count": 105,
   "metadata": {},
   "outputs": [
    {
     "data": {
      "text/plain": [
       "0.060231566735861046"
      ]
     },
     "execution_count": 105,
     "metadata": {},
     "output_type": "execute_result"
    }
   ],
   "source": [
    "df.reliability_03.mean()"
   ]
  },
  {
   "cell_type": "markdown",
   "metadata": {},
   "source": [
    "---"
   ]
  },
  {
   "cell_type": "markdown",
   "metadata": {},
   "source": [
    "### Questão 1\n",
    "**Quais os 5 cães que tiveram mais retweets, suas classificações do WeRateDogs e quantidade de marcações como favoritos?**"
   ]
  },
  {
   "cell_type": "markdown",
   "metadata": {},
   "source": [
    "- Foram filtradas as linhas nas quais os cães não tem nomes disponíveis.  \n",
    "- As linhas foram agrupadas por nome, por raça (minimizando a possibilidade cãe com mesmo nome), rate e quantidade de marcações como favorito. Obtendo-se o somatório de retweets, que foi ordenado descendentemente.\n",
    "- Resultando em um dataframe com os cães com mais retweets, onde a exibiação foi limitada em 5 linhas pelo padrão do método head()."
   ]
  },
  {
   "cell_type": "code",
   "execution_count": 106,
   "metadata": {
    "scrolled": true
   },
   "outputs": [
    {
     "data": {
      "text/html": [
       "<div>\n",
       "<style scoped>\n",
       "    .dataframe tbody tr th:only-of-type {\n",
       "        vertical-align: middle;\n",
       "    }\n",
       "\n",
       "    .dataframe tbody tr th {\n",
       "        vertical-align: top;\n",
       "    }\n",
       "\n",
       "    .dataframe thead th {\n",
       "        text-align: right;\n",
       "    }\n",
       "</style>\n",
       "<table border=\"1\" class=\"dataframe\">\n",
       "  <thead>\n",
       "    <tr style=\"text-align: right;\">\n",
       "      <th></th>\n",
       "      <th>name</th>\n",
       "      <th>breed_prediction_01</th>\n",
       "      <th>rating_numerator</th>\n",
       "      <th>favorite_count</th>\n",
       "      <th>retweet_count</th>\n",
       "    </tr>\n",
       "  </thead>\n",
       "  <tbody>\n",
       "    <tr>\n",
       "      <th>0</th>\n",
       "      <td>Stephan</td>\n",
       "      <td>Chihuahua</td>\n",
       "      <td>13.0</td>\n",
       "      <td>123156</td>\n",
       "      <td>61224</td>\n",
       "    </tr>\n",
       "    <tr>\n",
       "      <th>1</th>\n",
       "      <td>Duddles</td>\n",
       "      <td>English Springer</td>\n",
       "      <td>13.0</td>\n",
       "      <td>106131</td>\n",
       "      <td>44686</td>\n",
       "    </tr>\n",
       "    <tr>\n",
       "      <th>2</th>\n",
       "      <td>Bo</td>\n",
       "      <td>Standard Poodle</td>\n",
       "      <td>14.0</td>\n",
       "      <td>93798</td>\n",
       "      <td>41075</td>\n",
       "    </tr>\n",
       "    <tr>\n",
       "      <th>3</th>\n",
       "      <td>Jamesy</td>\n",
       "      <td>French Bulldog</td>\n",
       "      <td>13.0</td>\n",
       "      <td>124562</td>\n",
       "      <td>36569</td>\n",
       "    </tr>\n",
       "    <tr>\n",
       "      <th>4</th>\n",
       "      <td>Kenneth</td>\n",
       "      <td>indefinite</td>\n",
       "      <td>10.0</td>\n",
       "      <td>79140</td>\n",
       "      <td>33754</td>\n",
       "    </tr>\n",
       "  </tbody>\n",
       "</table>\n",
       "</div>"
      ],
      "text/plain": [
       "      name breed_prediction_01  rating_numerator  favorite_count  \\\n",
       "0  Stephan           Chihuahua              13.0          123156   \n",
       "1  Duddles    English Springer              13.0          106131   \n",
       "2       Bo     Standard Poodle              14.0           93798   \n",
       "3   Jamesy      French Bulldog              13.0          124562   \n",
       "4  Kenneth          indefinite              10.0           79140   \n",
       "\n",
       "   retweet_count  \n",
       "0          61224  \n",
       "1          44686  \n",
       "2          41075  \n",
       "3          36569  \n",
       "4          33754  "
      ]
     },
     "execution_count": 106,
     "metadata": {},
     "output_type": "execute_result"
    }
   ],
   "source": [
    "# Faz uma seleção de dados\n",
    "dogs_retweets = df.query('name != \"None\"').groupby(['name','breed_prediction_01','rating_numerator','favorite_count'])['retweet_count'].sum().sort_values(ascending = False).reset_index()\n",
    "dogs_retweets.head()"
   ]
  },
  {
   "cell_type": "markdown",
   "metadata": {},
   "source": [
    "- A partir das cinco primeiras 5 linhas do dataframe gerado foram plotados os gráficos abaixo."
   ]
  },
  {
   "cell_type": "code",
   "execution_count": 107,
   "metadata": {
    "scrolled": false
   },
   "outputs": [
    {
     "data": {
      "image/png": "[encoded data removed]",
      "text/plain": [
       "<matplotlib.figure.Figure at 0x1642ba1f208>"
      ]
     },
     "metadata": {},
     "output_type": "display_data"
    }
   ],
   "source": [
    "# Cria o gráfico\n",
    "groups = 5\n",
    "fig, ax = plt.subplots(figsize=(24, 12))\n",
    "fig.tight_layout()\n",
    "index = np.arange(groups)\n",
    "bar_width = 0.5\n",
    "transp = 1\n",
    "\n",
    "# Plota gráfico 1\n",
    "#plt.subplot(1, 3, 1)\n",
    "plt.rcParams['font.size'] = 20\n",
    "#plt.tight_layout()\n",
    "plt.title('Os 5 Cães com mais retweets')\n",
    "plt.xlabel('Cães')\n",
    "plt.ylabel('Retweets')\n",
    "plt.xticks(index, dogs_retweets.name[0:5])\n",
    "plt.bar(index, dogs_retweets.retweet_count[0:5], bar_width, alpha=transp, color='#38a4c9')\n",
    "plt.yticks(np.arange(0, 70000, 5000))\n",
    "\n",
    "plt.show();"
   ]
  },
  {
   "cell_type": "code",
   "execution_count": 108,
   "metadata": {
    "scrolled": false
   },
   "outputs": [
    {
     "data": {
      "image/png": "[encoded data removed]",
      "text/plain": [
       "<matplotlib.figure.Figure at 0x1642ba49cc0>"
      ]
     },
     "metadata": {},
     "output_type": "display_data"
    }
   ],
   "source": [
    "# Cria o gráfico\n",
    "groups = 5\n",
    "fig, ax = plt.subplots(figsize=(24, 12))\n",
    "fig.tight_layout()\n",
    "index = np.arange(groups)\n",
    "bar_width = 0.5\n",
    "transp = 1\n",
    "\n",
    "# Plota gráfico 2\n",
    "plt.rcParams['font.size'] = 20\n",
    "plt.title('Os rates dos 5 Cães\\ncom mais retweets')\n",
    "plt.xlabel('Cães')\n",
    "plt.ylabel('Rating Numarator')\n",
    "plt.xticks(index, dogs_retweets.name[0:5])\n",
    "plt.bar(index, dogs_retweets.rating_numerator[0:5], bar_width, alpha=transp, color='#007598')\n",
    "plt.yticks(np.arange(0, 20, 1))\n",
    "\n",
    "plt.show();"
   ]
  },
  {
   "cell_type": "code",
   "execution_count": 109,
   "metadata": {
    "scrolled": false
   },
   "outputs": [
    {
     "data": {
      "image/png": "[encoded data removed]",
      "text/plain": [
       "<matplotlib.figure.Figure at 0x1642bc1f908>"
      ]
     },
     "metadata": {},
     "output_type": "display_data"
    }
   ],
   "source": [
    "# Cria o gráfico\n",
    "groups = 5\n",
    "fig, ax = plt.subplots(figsize=(24, 12))\n",
    "fig.tight_layout()\n",
    "index = np.arange(groups)\n",
    "bar_width = 0.5\n",
    "transp = 1\n",
    "\n",
    "# Plota gráfico\n",
    "plt.rcParams['font.size'] = 20\n",
    "plt.title('Quantidade de favoritos dos\\n5 Cães com mais retweets')\n",
    "plt.xlabel('Cães')\n",
    "plt.ylabel('Rating Numarator')\n",
    "plt.xticks(index, dogs_retweets.name[0:5])\n",
    "plt.bar(index, dogs_retweets.favorite_count[0:5], bar_width, alpha=transp, color='#054e7c')\n",
    "plt.yticks(np.arange(0, 140000, 10000))\n",
    "\n",
    "plt.show();"
   ]
  },
  {
   "cell_type": "markdown",
   "metadata": {},
   "source": [
    "- Adicionalmente foi verificada, através de gráficos de dispersão, a correlação entre retweets, marcação como favorito e os rates do WeRateDogs."
   ]
  },
  {
   "cell_type": "code",
   "execution_count": 110,
   "metadata": {
    "scrolled": false
   },
   "outputs": [
    {
     "data": {
      "image/png": "[encoded data removed]",
      "text/plain": [
       "<matplotlib.figure.Figure at 0x1642bca7358>"
      ]
     },
     "metadata": {},
     "output_type": "display_data"
    }
   ],
   "source": [
    "# Cria a gráfico\n",
    "groups = 5\n",
    "fig, ax = plt.subplots(figsize=(24, 12))\n",
    "fig.tight_layout()\n",
    "index = np.arange(groups)\n",
    "bar_width = 0.5\n",
    "transp = 1\n",
    "plt.rcParams['font.size'] = 22\n",
    "plt.subplot(1, 3, 1)\n",
    "plt.title('Correlação Retweets x Favoritos')\n",
    "plt.xlabel('Favoritos')\n",
    "plt.ylabel('Retweets')\n",
    "plt.xticks(np.arange(0, 125000, 25000))\n",
    "plt.scatter(dogs_retweets.favorite_count, dogs_retweets.retweet_count)\n",
    "\n",
    "plt.subplot(1, 3, 2)\n",
    "plt.title('Correlação Retweets x Rate')\n",
    "plt.xlabel('Rate')\n",
    "plt.ylabel('Retweets')\n",
    "plt.scatter(dogs_retweets.query('rating_numerator <= 20').rating_numerator, dogs_retweets.query('rating_numerator <= 20').retweet_count)\n",
    "\n",
    "plt.subplot(1, 3, 3)\n",
    "plt.title('Correlação Favoritos x Rate')\n",
    "plt.xlabel('Rate')\n",
    "plt.ylabel('Favoritos')\n",
    "plt.scatter(dogs_retweets.query('rating_numerator <= 20').rating_numerator, dogs_retweets.query('rating_numerator <= 20').favorite_count)\n",
    "plt.show()"
   ]
  },
  {
   "cell_type": "markdown",
   "metadata": {},
   "source": [
    "**Resposta:**"
   ]
  },
  {
   "cell_type": "markdown",
   "metadata": {},
   "source": [
    "Os dados parecem indicar que os 5 cães que tiveram mais retweets em suas postagens foram Stephan, Duddies, Bo Jamesy e Kenneth. É interessante que, embora Stephan apareça com mais retweets, ele aparece com o rate de WeRateDogs e marcações de favorito menores que outros cães. No entanto, Jamesy que aparece na quarta posição em retweets, com o mesmo rate de Stephan e mas com um total de marcações de favorito maior.  \n",
    "Ao comparar retweets, marcação como favorito e os rates do WeRateDogs de todos os cães observou-se uma correlação positiva entre retweets e favoritos."
   ]
  },
  {
   "cell_type": "markdown",
   "metadata": {},
   "source": [
    "---"
   ]
  },
  {
   "cell_type": "markdown",
   "metadata": {},
   "source": [
    "### Questão 2\n",
    "**Qual a distribuição dos cães segundo os estágios propostos pelo WeRateDogs?**"
   ]
  },
  {
   "cell_type": "markdown",
   "metadata": {},
   "source": [
    "- Foram filtrados os cães em que o estágio não está disponível.\n",
    "- Agrupando por estágio, contou-se as ocorrências, que foram então ordenadas descendentemente. Reultando em uma série."
   ]
  },
  {
   "cell_type": "code",
   "execution_count": 111,
   "metadata": {
    "scrolled": true
   },
   "outputs": [
    {
     "data": {
      "text/plain": [
       "dog_stage\n",
       "pupper           203\n",
       "doggo             63\n",
       "puppo             22\n",
       "doggo,pupper       9\n",
       "floofer            7\n",
       "doggo,puppo        1\n",
       "doggo,floofer      1\n",
       "Name: dog_stage, dtype: int64"
      ]
     },
     "execution_count": 111,
     "metadata": {},
     "output_type": "execute_result"
    }
   ],
   "source": [
    "# Faz uma seleção de dados\n",
    "dog_stage = df.query('dog_stage != \"None\"').groupby(['dog_stage'])['dog_stage'].count().sort_values(ascending = False)\n",
    "dog_stage"
   ]
  },
  {
   "cell_type": "markdown",
   "metadata": {},
   "source": [
    "- Com o resultado foi plotado o gráfico abaixo."
   ]
  },
  {
   "cell_type": "code",
   "execution_count": 125,
   "metadata": {
    "scrolled": false
   },
   "outputs": [
    {
     "data": {
      "image/png": "[encoded data removed]",
      "text/plain": [
       "<matplotlib.figure.Figure at 0x1642bca7be0>"
      ]
     },
     "metadata": {},
     "output_type": "display_data"
    }
   ],
   "source": [
    "# Cria o gráfico\n",
    "groups = 7\n",
    "fig, ax = plt.subplots(figsize=(10, 6))\n",
    "fig.tight_layout()\n",
    "index = np.arange(groups)\n",
    "bar_width = 0.5\n",
    "transp = 0.7\n",
    "stages = []\n",
    "for s in range(0,len(dog_stage)):\n",
    "    stages.append(dog_stage.index[s].title())\n",
    "\n",
    "# Plota gráfico\n",
    "\n",
    "plt.rcParams['font.size'] = 12\n",
    "plt.tight_layout()\n",
    "plt.title('Distribuição de cães segundo os estágios propostos pelo WeRateDogs')\n",
    "plt.xlabel('Estágios')\n",
    "plt.ylabel('Quantidade de cães')\n",
    "plt.xticks(index, stages[0:7])\n",
    "plt.bar(index, dog_stage[0:7], bar_width, alpha=transp, color='#38a4c9')\n",
    "plt.yticks(np.arange(0, 215, 10))\n",
    "\n",
    "plt.show();"
   ]
  },
  {
   "cell_type": "markdown",
   "metadata": {},
   "source": [
    "**Resposta:**\n"
   ]
  },
  {
   "cell_type": "markdown",
   "metadata": {},
   "source": [
    "A distribuição dos cães de acordo com os estágios propostos pelo WeRateDogs sugere que a maioria dos cães são \"Pupper\"."
   ]
  },
  {
   "cell_type": "markdown",
   "metadata": {},
   "source": [
    "---"
   ]
  },
  {
   "cell_type": "markdown",
   "metadata": {},
   "source": [
    "### Questão 3\n",
    "**A raça dos cães parece ter alguma relação com o compartilhamento dos tweets?**"
   ]
  },
  {
   "cell_type": "markdown",
   "metadata": {},
   "source": [
    "- Foram filtrados valores em que certeza de predição de raça estão abaixo de 0.90 (90%) e os de raça indefinida.\n",
    "- Agrupados os valores por raça, foram somados retweets e ordenados ascendentemente.\n",
    "- Também foi contada a quantidade de tweets por raça."
   ]
  },
  {
   "cell_type": "code",
   "execution_count": 114,
   "metadata": {
    "scrolled": false
   },
   "outputs": [],
   "source": [
    "# Faz uma seleção de dados\n",
    "breed_retweets = df.query('reliability_01 > 0.90 and breed_prediction_01 != \"indefinite\"' ).groupby(['breed_prediction_01'])['retweet_count'].sum().sort_values(ascending = False)"
   ]
  },
  {
   "cell_type": "code",
   "execution_count": 115,
   "metadata": {},
   "outputs": [],
   "source": [
    "# Faz uma seleção de dados\n",
    "breed_tweets = df.query('reliability_01 > 0.90 and breed_prediction_01 != \"indefinite\"' ).groupby(['breed_prediction_01'])['tweet_id'].count().sort_values(ascending = False)"
   ]
  },
  {
   "cell_type": "code",
   "execution_count": 116,
   "metadata": {
    "scrolled": true
   },
   "outputs": [
    {
     "data": {
      "text/plain": [
       "breed_prediction_01\n",
       "Golden Retriever                  139894\n",
       "Pembroke                          120209\n",
       "Samoyed                           104227\n",
       "Labrador Retriever                 93463\n",
       "French Bulldog                     70437\n",
       "Pug                                48927\n",
       "Pomeranian                         42203\n",
       "Chihuahua                          25259\n",
       "Chow                               22231\n",
       "Shetland Sheepdog                  17658\n",
       "Vizsla                             11307\n",
       "Blenheim Spaniel                    9786\n",
       "American Staffordshire Terrier      9321\n",
       "Toy Poodle                          9301\n",
       "Brittany Spaniel                    8015\n",
       "Leonberg                            7208\n",
       "Basset                              6764\n",
       "Komondor                            6072\n",
       "Bernese Mountain Dog                5894\n",
       "German Shepherd                     5660\n",
       "Schipperke                          5612\n",
       "Weimaraner                          5413\n",
       "Tibetan Mastiff                     5356\n",
       "Great Pyrenees                      5317\n",
       "Afghan Hound                        5162\n",
       "Saint Bernard                       4956\n",
       "Pekinese                            4622\n",
       "Malamute                            4031\n",
       "Doberman                            4005\n",
       "West Highland White Terrier         3702\n",
       "Old English Sheepdog                3668\n",
       "Bull Mastiff                        3355\n",
       "Boston Bull                         3337\n",
       "Italian Greyhound                   3254\n",
       "Rottweiler                          3065\n",
       "Yorkshire Terrier                   2927\n",
       "Dalmatian                           2674\n",
       "Cocker Spaniel                      2660\n",
       "Norwegian Elkhound                  2552\n",
       "Airedale                            1913\n",
       "Keeshond                            1895\n",
       "Beagle                              1869\n",
       "Clumber                             1827\n",
       "Siberian Husky                      1460\n",
       "Maltese Dog                         1406\n",
       "Cardigan                            1401\n",
       "Briard                              1235\n",
       "Shih-Tzu                            1179\n",
       "German Short-Haired Pointer         1099\n",
       "Great Dane                          1094\n",
       "Miniature Pinscher                   930\n",
       "Gordon Setter                        633\n",
       "Soft-Coated Wheaten Terrier          617\n",
       "Boxer                                549\n",
       "English Setter                       479\n",
       "English Springer                     389\n",
       "Miniature Schnauzer                  338\n",
       "Collie                               322\n",
       "Name: retweet_count, dtype: int64"
      ]
     },
     "execution_count": 116,
     "metadata": {},
     "output_type": "execute_result"
    }
   ],
   "source": [
    "breed_retweets"
   ]
  },
  {
   "cell_type": "code",
   "execution_count": 117,
   "metadata": {
    "scrolled": true
   },
   "outputs": [
    {
     "data": {
      "text/plain": [
       "breed_prediction_01\n",
       "Golden Retriever                  36\n",
       "Pembroke                          26\n",
       "Pug                               24\n",
       "Samoyed                           21\n",
       "Labrador Retriever                17\n",
       "Pomeranian                        16\n",
       "Chihuahua                         13\n",
       "French Bulldog                    12\n",
       "Chow                               9\n",
       "Blenheim Spaniel                   6\n",
       "Toy Poodle                         5\n",
       "American Staffordshire Terrier     4\n",
       "Bernese Mountain Dog               4\n",
       "Shetland Sheepdog                  4\n",
       "Brittany Spaniel                   4\n",
       "German Shepherd                    4\n",
       "Vizsla                             4\n",
       "Shih-Tzu                           4\n",
       "Boston Bull                        3\n",
       "Komondor                           3\n",
       "Malamute                           3\n",
       "Basset                             3\n",
       "Beagle                             3\n",
       "Old English Sheepdog               3\n",
       "Pekinese                           3\n",
       "Rottweiler                         3\n",
       "Cocker Spaniel                     3\n",
       "Doberman                           2\n",
       "Bull Mastiff                       2\n",
       "English Springer                   2\n",
       "Dalmatian                          2\n",
       "German Short-Haired Pointer        2\n",
       "Yorkshire Terrier                  2\n",
       "West Highland White Terrier        2\n",
       "Italian Greyhound                  2\n",
       "Keeshond                           2\n",
       "Saint Bernard                      2\n",
       "Schipperke                         2\n",
       "Airedale                           2\n",
       "Tibetan Mastiff                    2\n",
       "Weimaraner                         2\n",
       "Maltese Dog                        2\n",
       "Boxer                              1\n",
       "Briard                             1\n",
       "Cardigan                           1\n",
       "Great Pyrenees                     1\n",
       "Clumber                            1\n",
       "Collie                             1\n",
       "English Setter                     1\n",
       "Gordon Setter                      1\n",
       "Great Dane                         1\n",
       "Leonberg                           1\n",
       "Miniature Pinscher                 1\n",
       "Miniature Schnauzer                1\n",
       "Norwegian Elkhound                 1\n",
       "Siberian Husky                     1\n",
       "Soft-Coated Wheaten Terrier        1\n",
       "Afghan Hound                       1\n",
       "Name: tweet_id, dtype: int64"
      ]
     },
     "execution_count": 117,
     "metadata": {},
     "output_type": "execute_result"
    }
   ],
   "source": [
    "breed_tweets"
   ]
  },
  {
   "cell_type": "markdown",
   "metadata": {},
   "source": [
    "- Com as quantidades de tweets e retweets de cada raça, plotou-se o gráfico abaixo."
   ]
  },
  {
   "cell_type": "code",
   "execution_count": 118,
   "metadata": {
    "scrolled": false
   },
   "outputs": [
    {
     "data": {
      "image/png": "[encoded data removed]",
      "text/plain": [
       "<matplotlib.figure.Figure at 0x1642fddbe10>"
      ]
     },
     "metadata": {},
     "output_type": "display_data"
    }
   ],
   "source": [
    "# Cria o gráfico\n",
    "groups = 5\n",
    "fig, ax = plt.subplots(figsize=(24, 12))\n",
    "fig.tight_layout()\n",
    "index = np.arange(groups)\n",
    "bar_width = 0.5\n",
    "transp = 1\n",
    "plt.rcParams['font.size'] = 22\n",
    "plt.title('Correlação Retweets e Tweets por Raça')\n",
    "plt.xlabel('Retweets por raça')\n",
    "plt.ylabel('Tweets por raça')\n",
    "plt.scatter(breed_retweets, breed_tweets)\n",
    "plt.show()"
   ]
  },
  {
   "cell_type": "markdown",
   "metadata": {},
   "source": [
    "**Resposta:**\n"
   ]
  },
  {
   "cell_type": "markdown",
   "metadata": {},
   "source": [
    "Os dados apontam um maior número de retweets para raça Golden Retriever. Porém os dados também apontam que é a raça que mais tem postagem no WeRateDogs. \n",
    "Através do gráfico de dispersão percebe-se uma correlação positiva entre a quantidade de tweets e retweets. Ou seja, sem indicação de muitos retweets para uma raça que tenha tido poucos tweets."
   ]
  },
  {
   "cell_type": "markdown",
   "metadata": {},
   "source": [
    "---"
   ]
  },
  {
   "cell_type": "markdown",
   "metadata": {},
   "source": [
    "### Questão 4\n",
    "**Há muitos cães com o mesmo nome? Se sim, quais 10 os nomes mais comuns?**"
   ]
  },
  {
   "cell_type": "code",
   "execution_count": 119,
   "metadata": {
    "scrolled": true
   },
   "outputs": [
    {
     "data": {
      "text/plain": [
       "Charlie    11\n",
       "Oliver     10\n",
       "Cooper     10\n",
       "Lucy       10\n",
       "Penny       9\n",
       "Tucker      9\n",
       "Sadie       8\n",
       "Winston     8\n",
       "Lola        7\n",
       "Daisy       7\n",
       "Name: name, dtype: int64"
      ]
     },
     "execution_count": 119,
     "metadata": {},
     "output_type": "execute_result"
    }
   ],
   "source": [
    "# Faz uma seleção de dados\n",
    "df.query('name != \"None\"').name.value_counts()[0:10]"
   ]
  },
  {
   "cell_type": "markdown",
   "metadata": {},
   "source": [
    "**Resposta:**"
   ]
  },
  {
   "cell_type": "markdown",
   "metadata": {},
   "source": [
    "Há muitos cães com o mesmo nome. Os 10 nomes mais comuns parecem ser: Charlie, Lucy, Oliver, Cooper, Tucker, Penny, Sadie, Winston, Lola e Toby."
   ]
  },
  {
   "cell_type": "markdown",
   "metadata": {},
   "source": [
    "---"
   ]
  },
  {
   "cell_type": "markdown",
   "metadata": {},
   "source": [
    "### Questão 5\n",
    "**O estágio do cão sugere alguma relação com a classificação dada pelo WeRateDogs?**"
   ]
  },
  {
   "cell_type": "markdown",
   "metadata": {},
   "source": [
    "- Foram filtradas as linha o estágio do caõ, 'dog_stage', não está disponível e gerada uma série com o estágio e a classificação 'rating_numerator'."
   ]
  },
  {
   "cell_type": "code",
   "execution_count": 120,
   "metadata": {},
   "outputs": [],
   "source": [
    "# Filtra e gera série com 'dog_stage' e 'rating_numerator'\n",
    "stage_rate = df.loc[df.dog_stage != \"None\", ['dog_stage','rating_numerator']]"
   ]
  },
  {
   "cell_type": "code",
   "execution_count": 121,
   "metadata": {
    "scrolled": true
   },
   "outputs": [],
   "source": [
    "# Faz uma seleção de dados por média\n",
    "stages_rate_mean = stage_rate.groupby('dog_stage')['rating_numerator'].mean()"
   ]
  },
  {
   "cell_type": "markdown",
   "metadata": {},
   "source": [
    "- Com a série foi plotado o gráfico abaixo."
   ]
  },
  {
   "cell_type": "code",
   "execution_count": 123,
   "metadata": {},
   "outputs": [
    {
     "data": {
      "image/png": "[encoded data removed]",
      "text/plain": [
       "<matplotlib.figure.Figure at 0x1642fd90710>"
      ]
     },
     "metadata": {},
     "output_type": "display_data"
    }
   ],
   "source": [
    "# Cria o gráfico\n",
    "groups = 7\n",
    "fig, ax = plt.subplots(figsize=(10, 6))\n",
    "fig.tight_layout()\n",
    "index = np.arange(groups)\n",
    "bar_width = 0.5\n",
    "transp = 0.7\n",
    "stages = []\n",
    "for s in range(0,len(stages_rate_mean)):\n",
    "    stages.append(stages_rate_mean.index[s].title())\n",
    "\n",
    "# Plota gráfico\n",
    "\n",
    "plt.rcParams['font.size'] = 12\n",
    "plt.tight_layout()\n",
    "plt.title('Média de Classificação por Estágio')\n",
    "plt.xlabel('Estágios')\n",
    "plt.ylabel('Média de Classificação')\n",
    "plt.xticks(index, stages[0:7])\n",
    "plt.bar(index, stages_rate_mean[0:7], bar_width, alpha=transp, color='#38a4c9')\n",
    "plt.yticks(np.arange(0, 15, 1))\n",
    "\n",
    "plt.show();"
   ]
  },
  {
   "cell_type": "markdown",
   "metadata": {},
   "source": [
    "**Resposta:**\n"
   ]
  },
  {
   "cell_type": "markdown",
   "metadata": {},
   "source": [
    "Considerando que na Questão 2 os dados apontam que a maioria dos cães estão indicados como 'Pupper'. Aparentemete cães neste estágio recebem uma classificação menor que os demais."
   ]
  },
  {
   "cell_type": "markdown",
   "metadata": {},
   "source": [
    "---"
   ]
  },
  {
   "cell_type": "markdown",
   "metadata": {},
   "source": [
    "### Conclusão"
   ]
  },
  {
   "cell_type": "markdown",
   "metadata": {},
   "source": [
    "De acordo com os dados os 5 cães que tiveram mais retweets em suas postagens foram Stephan, Duddies, Bo Jamesy e Kenneth, observou-se que cães com maior rate parecem receber mais retweets.  \n",
    "A maioria dos cães parece ser \"Pupper\" e a raça que mais teve retweets foi a Golden Retriever, que é também a raça que aparece com o maior de postagens. De uma maneira geral os gráficos não parecem indicar nenhuma raça que tenha poucas postagens, mas com número de tweets por postagem desproporcional.  \n",
    "Os nomes de cães mais comuns parecem ser: Charlie, Lucy, Oliver, Cooper, Tucker, Penny, Sadie, Winston, Lola e Toby.\n",
    "E aparentemete cães no estágio \"Pupper\" recebem uma classificação menor que os demais.  \n",
    "\n",
    "Um filhote de cão Golden Retriever, com nome 'Charlie' provavelmente fará muito sucesso, terá um ótimo rate, muitos retweets e marcações como favorito."
   ]
  },
  {
   "cell_type": "markdown",
   "metadata": {},
   "source": [
    "**Limitações**"
   ]
  },
  {
   "cell_type": "markdown",
   "metadata": {},
   "source": [
    "Algumas das respostas tiveram limitações devido a dados indisponíveis por diversos fatores. Desta forma esta análise remete-se apenas os conteúdo parcialmente apurado através das postagens do WeRateDogs."
   ]
  },
  {
   "cell_type": "markdown",
   "metadata": {},
   "source": [
    "**Fontes de consulta**"
   ]
  },
  {
   "cell_type": "markdown",
   "metadata": {},
   "source": [
    "- Udacity - https://br.udacity.com/course/fundamentos-data-science-ii--nd111 \n",
    "- WeRateDogs - https://twitter.com/dog_rates\n",
    "- Tweepy - http://www.tweepy.org/\n",
    "- Twitter API - https://developer.twitter.com\n",
    "- Slick Remix - https://www.slickremix.com\n",
    "- Stack Overflow - https://stackoverflow.com/\n",
    "- American Kennel Club - https://www.akc.org/\n",
    "- Kaggle - https://www.kaggle.com/"
   ]
  }
 ],
 "metadata": {
  "kernelspec": {
   "display_name": "Python 3",
   "language": "python",
   "name": "python3"
  },
  "language_info": {
   "codemirror_mode": {
    "name": "ipython",
    "version": 3
   },
   "file_extension": ".py",
   "mimetype": "text/x-python",
   "name": "python",
   "nbconvert_exporter": "python",
   "pygments_lexer": "ipython3",
   "version": "3.6.4"
  }
 },
 "nbformat": 4,
 "nbformat_minor": 2
}
